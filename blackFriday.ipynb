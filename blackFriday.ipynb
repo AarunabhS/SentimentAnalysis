{
 "cells": [
  {
   "cell_type": "markdown",
   "metadata": {
    "application/vnd.databricks.v1+cell": {
     "cellMetadata": {},
     "inputWidgets": {},
     "nuid": "5151ff40-3907-43dc-a133-bfe9ed77d0a3",
     "showTitle": false,
     "title": ""
    }
   },
   "source": [
    "## Import Libraries"
   ]
  },
  {
   "cell_type": "code",
   "execution_count": 0,
   "metadata": {
    "application/vnd.databricks.v1+cell": {
     "cellMetadata": {
      "byteLimit": 2048000,
      "rowLimit": 10000
     },
     "inputWidgets": {},
     "nuid": "30a8a972-be51-4b42-b412-7c367d31f512",
     "showTitle": false,
     "title": ""
    }
   },
   "outputs": [
    {
     "name": "stdout",
     "output_type": "stream",
     "text": [
      "Collecting vaderSentiment\n",
      "  Downloading vaderSentiment-3.3.2-py2.py3-none-any.whl (125 kB)\n",
      "Requirement already satisfied: requests in /databricks/python3/lib/python3.9/site-packages (from vaderSentiment) (2.27.1)\n",
      "Requirement already satisfied: idna<4,>=2.5 in /databricks/python3/lib/python3.9/site-packages (from requests->vaderSentiment) (3.3)\n",
      "Requirement already satisfied: charset-normalizer~=2.0.0 in /databricks/python3/lib/python3.9/site-packages (from requests->vaderSentiment) (2.0.4)\n",
      "Requirement already satisfied: urllib3<1.27,>=1.21.1 in /databricks/python3/lib/python3.9/site-packages (from requests->vaderSentiment) (1.26.9)\n",
      "Requirement already satisfied: certifi>=2017.4.17 in /databricks/python3/lib/python3.9/site-packages (from requests->vaderSentiment) (2021.10.8)\n",
      "Installing collected packages: vaderSentiment\n",
      "Successfully installed vaderSentiment-3.3.2\n",
      "WARNING: You are using pip version 21.2.4; however, version 23.2.1 is available.\n",
      "You should consider upgrading via the '/local_disk0/.ephemeral_nfs/envs/pythonEnv-c9d9fa13-e3a7-403b-bb94-9d7fb24b1573/bin/python -m pip install --upgrade pip' command.\n"
     ]
    }
   ],
   "source": [
    "%sh pip install vaderSentiment"
   ]
  },
  {
   "cell_type": "code",
   "execution_count": 0,
   "metadata": {
    "application/vnd.databricks.v1+cell": {
     "cellMetadata": {
      "byteLimit": 2048000,
      "rowLimit": 10000
     },
     "inputWidgets": {},
     "nuid": "1e627cdd-8280-44b6-a538-47477e436737",
     "showTitle": false,
     "title": ""
    }
   },
   "outputs": [],
   "source": [
    "# Pyspark SQL\n",
    "from pyspark.sql import SparkSession\n",
    "from pyspark.sql.types import StructType, StructField, StringType, FloatType, IntegerType\n",
    "from pyspark.sql.functions import col, sum, udf\n",
    "import pyspark.sql.functions as F\n",
    "\n",
    "# Sentiment Analyzer\n",
    "# !pip install vaderSentiment\n",
    "from vaderSentiment.vaderSentiment import SentimentIntensityAnalyzer\n",
    "\n",
    "# Pyspark Machine Learning\n",
    "from pyspark.ml.feature import Tokenizer, StopWordsRemover, CountVectorizer, HashingTF, IDF\n",
    "from pyspark.ml.classification import LogisticRegression\n",
    "from pyspark.ml.evaluation import BinaryClassificationEvaluator"
   ]
  },
  {
   "cell_type": "markdown",
   "metadata": {
    "application/vnd.databricks.v1+cell": {
     "cellMetadata": {},
     "inputWidgets": {},
     "nuid": "19f24af4-5c73-43a3-b942-5ebf99598602",
     "showTitle": false,
     "title": ""
    }
   },
   "source": [
    "## Load Data"
   ]
  },
  {
   "cell_type": "code",
   "execution_count": 0,
   "metadata": {
    "application/vnd.databricks.v1+cell": {
     "cellMetadata": {
      "byteLimit": 2048000,
      "rowLimit": 10000
     },
     "inputWidgets": {},
     "nuid": "65c95284-5e63-4872-9520-c7d86ac9e5d7",
     "showTitle": false,
     "title": ""
    }
   },
   "outputs": [],
   "source": [
    "\n",
    "# Define a function to mount\n",
    "\n",
    "def mount_s3_bucket(access_key, secret_key, bucket_name, mount_folder):\n",
    "  ACCESS_KEY_ID = access_key\n",
    "  SECRET_ACCESS_KEY = secret_key\n",
    "  ENCODED_SECRET_KEY = SECRET_ACCESS_KEY.replace(\"/\", \"%2F\")\n",
    "\n",
    "  print (\"Mounting\", bucket_name)\n",
    "\n",
    "  try:\n",
    "    # Unmount the data in case it was already mounted.\n",
    "    dbutils.fs.unmount(\"/mnt/%s\" % mount_folder)\n",
    "    \n",
    "  except:\n",
    "    # If it fails to unmount it most likely wasn't mounted in the first place\n",
    "    print (\"Directory not unmounted: \", mount_folder)\n",
    "    \n",
    "  finally:\n",
    "    # Lastly, mount our bucket.\n",
    "    dbutils.fs.mount(\"s3a://%s:%s@%s\" % (ACCESS_KEY_ID, ENCODED_SECRET_KEY, bucket_name), \"/mnt/%s\" % mount_folder)\n",
    "    #dbutils.fs.mount(\"s3a://\"+ ACCESS_KEY_ID + \":\" + ENCODED_SECRET_KEY + \"@\" + bucket_name, mount_folder)\n",
    "    print (\"The bucket\", bucket_name, \"was mounted to\", mount_folder, \"\\n\")"
   ]
  },
  {
   "cell_type": "code",
   "execution_count": 0,
   "metadata": {
    "application/vnd.databricks.v1+cell": {
     "cellMetadata": {
      "byteLimit": 2048000,
      "rowLimit": 10000
     },
     "inputWidgets": {},
     "nuid": "5be236af-ef1f-41a5-b5e3-ef1f681e0ac2",
     "showTitle": false,
     "title": ""
    }
   },
   "outputs": [],
   "source": [
    "# Set AWS programmatic access credentials\n",
    "ACCESS_KEY = \"****************\"\n",
    "SECRET_ACCESS_KEY = \"*************************\""
   ]
  },
  {
   "cell_type": "code",
   "execution_count": 0,
   "metadata": {
    "application/vnd.databricks.v1+cell": {
     "cellMetadata": {
      "byteLimit": 2048000,
      "rowLimit": 10000
     },
     "inputWidgets": {},
     "nuid": "013a9d36-d13a-419d-bc31-a2a76008091d",
     "showTitle": false,
     "title": ""
    }
   },
   "outputs": [
    {
     "name": "stdout",
     "output_type": "stream",
     "text": [
      "Mounting weclouddata/twitter/\n",
      "/mnt/project has been unmounted.\n",
      "The bucket weclouddata/twitter/ was mounted to project \n",
      "\n"
     ]
    }
   ],
   "source": [
    "mount_s3_bucket(ACCESS_KEY, SECRET_ACCESS_KEY, 'weclouddata/twitter/', 'project')"
   ]
  },
  {
   "cell_type": "code",
   "execution_count": 0,
   "metadata": {
    "application/vnd.databricks.v1+cell": {
     "cellMetadata": {
      "byteLimit": 2048000,
      "rowLimit": 10000
     },
     "inputWidgets": {},
     "nuid": "37f41510-67a8-458b-94e8-7d41c7b34155",
     "showTitle": false,
     "title": ""
    }
   },
   "outputs": [
    {
     "data": {
      "text/html": [
       "<style scoped>\n",
       "  .table-result-container {\n",
       "    max-height: 300px;\n",
       "    overflow: auto;\n",
       "  }\n",
       "  table, th, td {\n",
       "    border: 1px solid black;\n",
       "    border-collapse: collapse;\n",
       "  }\n",
       "  th, td {\n",
       "    padding: 5px;\n",
       "  }\n",
       "  th {\n",
       "    text-align: left;\n",
       "  }\n",
       "</style><div class='table-result-container'><table class='table-result'><thead style='background-color: white'><tr><th>path</th><th>name</th><th>size</th><th>modificationTime</th></tr></thead><tbody><tr><td>dbfs:/mnt/project/AI/</td><td>AI/</td><td>0</td><td>0</td></tr><tr><td>dbfs:/mnt/project/BlackFriday/</td><td>BlackFriday/</td><td>0</td><td>0</td></tr><tr><td>dbfs:/mnt/project/CSIS/</td><td>CSIS/</td><td>0</td><td>0</td></tr><tr><td>dbfs:/mnt/project/Do Not Use/</td><td>Do Not Use/</td><td>0</td><td>0</td></tr><tr><td>dbfs:/mnt/project/ElonMusk/</td><td>ElonMusk/</td><td>0</td><td>0</td></tr><tr><td>dbfs:/mnt/project/Inflation/</td><td>Inflation/</td><td>0</td><td>0</td></tr><tr><td>dbfs:/mnt/project/Iran/</td><td>Iran/</td><td>0</td><td>0</td></tr><tr><td>dbfs:/mnt/project/MTA/</td><td>MTA/</td><td>0</td><td>0</td></tr><tr><td>dbfs:/mnt/project/WorldCup/</td><td>WorldCup/</td><td>0</td><td>0</td></tr><tr><td>dbfs:/mnt/project/cancer/</td><td>cancer/</td><td>0</td><td>0</td></tr><tr><td>dbfs:/mnt/project/thanksgiving/</td><td>thanksgiving/</td><td>0</td><td>0</td></tr><tr><td>dbfs:/mnt/project/twitter/</td><td>twitter/</td><td>0</td><td>0</td></tr><tr><td>dbfs:/mnt/project/wecan/</td><td>wecan/</td><td>0</td><td>0</td></tr></tbody></table></div>"
      ]
     },
     "metadata": {
      "application/vnd.databricks.v1+output": {
       "addedWidgets": {},
       "aggData": [],
       "aggError": "",
       "aggOverflow": false,
       "aggSchema": [],
       "aggSeriesLimitReached": false,
       "aggType": "",
       "arguments": {},
       "columnCustomDisplayInfos": {},
       "data": [
        [
         "dbfs:/mnt/project/AI/",
         "AI/",
         0,
         0
        ],
        [
         "dbfs:/mnt/project/BlackFriday/",
         "BlackFriday/",
         0,
         0
        ],
        [
         "dbfs:/mnt/project/CSIS/",
         "CSIS/",
         0,
         0
        ],
        [
         "dbfs:/mnt/project/Do Not Use/",
         "Do Not Use/",
         0,
         0
        ],
        [
         "dbfs:/mnt/project/ElonMusk/",
         "ElonMusk/",
         0,
         0
        ],
        [
         "dbfs:/mnt/project/Inflation/",
         "Inflation/",
         0,
         0
        ],
        [
         "dbfs:/mnt/project/Iran/",
         "Iran/",
         0,
         0
        ],
        [
         "dbfs:/mnt/project/MTA/",
         "MTA/",
         0,
         0
        ],
        [
         "dbfs:/mnt/project/WorldCup/",
         "WorldCup/",
         0,
         0
        ],
        [
         "dbfs:/mnt/project/cancer/",
         "cancer/",
         0,
         0
        ],
        [
         "dbfs:/mnt/project/thanksgiving/",
         "thanksgiving/",
         0,
         0
        ],
        [
         "dbfs:/mnt/project/twitter/",
         "twitter/",
         0,
         0
        ],
        [
         "dbfs:/mnt/project/wecan/",
         "wecan/",
         0,
         0
        ]
       ],
       "datasetInfos": [],
       "dbfsResultPath": null,
       "isJsonSchema": true,
       "metadata": {
        "isDbfsCommandResult": false
       },
       "overflow": false,
       "plotOptions": {
        "customPlotOptions": {},
        "displayType": "table",
        "pivotAggregation": null,
        "pivotColumns": null,
        "xColumns": null,
        "yColumns": null
       },
       "removedWidgets": [],
       "schema": [
        {
         "metadata": "{}",
         "name": "path",
         "type": "\"string\""
        },
        {
         "metadata": "{}",
         "name": "name",
         "type": "\"string\""
        },
        {
         "metadata": "{}",
         "name": "size",
         "type": "\"long\""
        },
        {
         "metadata": "{}",
         "name": "modificationTime",
         "type": "\"long\""
        }
       ],
       "type": "table"
      }
     },
     "output_type": "display_data"
    }
   ],
   "source": [
    "%fs ls /mnt/project/"
   ]
  },
  {
   "cell_type": "code",
   "execution_count": 0,
   "metadata": {
    "application/vnd.databricks.v1+cell": {
     "cellMetadata": {
      "byteLimit": 2048000,
      "rowLimit": 10000
     },
     "inputWidgets": {},
     "nuid": "25f0f97c-a003-4404-98b8-db103a4a1529",
     "showTitle": false,
     "title": ""
    }
   },
   "outputs": [],
   "source": [
    "filePath = '/mnt/project/BlackFriday/2022/11/24/*/*'"
   ]
  },
  {
   "cell_type": "markdown",
   "metadata": {
    "application/vnd.databricks.v1+cell": {
     "cellMetadata": {},
     "inputWidgets": {},
     "nuid": "57c11545-b1a2-4bd7-b062-7f4da8d17073",
     "showTitle": false,
     "title": ""
    }
   },
   "source": [
    "###Create Spark Session"
   ]
  },
  {
   "cell_type": "code",
   "execution_count": 0,
   "metadata": {
    "application/vnd.databricks.v1+cell": {
     "cellMetadata": {
      "byteLimit": 2048000,
      "rowLimit": 10000
     },
     "inputWidgets": {},
     "nuid": "4055f690-a4a7-471a-ab2f-74dd58ff0905",
     "showTitle": false,
     "title": ""
    }
   },
   "outputs": [
    {
     "name": "stdout",
     "output_type": "stream",
     "text": [
      "Session created\n"
     ]
    }
   ],
   "source": [
    "spark = (SparkSession\n",
    "        .builder\n",
    "        .appName('df')\n",
    "        .getOrCreate())\n",
    "\n",
    "print('Session created')\n"
   ]
  },
  {
   "cell_type": "code",
   "execution_count": 0,
   "metadata": {
    "application/vnd.databricks.v1+cell": {
     "cellMetadata": {
      "byteLimit": 2048000,
      "rowLimit": 10000
     },
     "inputWidgets": {},
     "nuid": "47a56cf7-898e-4244-bd0e-a6986a2b8c49",
     "showTitle": false,
     "title": ""
    }
   },
   "outputs": [],
   "source": [
    "sc = spark.sparkContext"
   ]
  },
  {
   "cell_type": "code",
   "execution_count": 0,
   "metadata": {
    "application/vnd.databricks.v1+cell": {
     "cellMetadata": {
      "byteLimit": 2048000,
      "rowLimit": 10000
     },
     "inputWidgets": {},
     "nuid": "b25ec1ef-166d-4d15-b29f-04cd30a7efd1",
     "showTitle": false,
     "title": ""
    }
   },
   "outputs": [],
   "source": [
    "\n",
    "# Define schema\n",
    "schema = StructType([\n",
    "    StructField('id', StringType(), True),\n",
    "    StructField('name', StringType(), True),\n",
    "    StructField('username', StringType(), True),\n",
    "    StructField('tweet', StringType(), True),\n",
    "    StructField('followers_count', StringType(), True),\n",
    "    StructField('location', StringType(), True),\n",
    "    StructField('geo', StringType(), True),\n",
    "    StructField('created_at', StringType(), True)\n",
    "])"
   ]
  },
  {
   "cell_type": "code",
   "execution_count": 0,
   "metadata": {
    "application/vnd.databricks.v1+cell": {
     "cellMetadata": {
      "byteLimit": 2048000,
      "rowLimit": 10000
     },
     "inputWidgets": {},
     "nuid": "9c0ccbc4-f542-48df-8ab8-12f0a41d1341",
     "showTitle": false,
     "title": ""
    }
   },
   "outputs": [],
   "source": [
    "df = (spark.read.schema(schema).option('delimiter','\\t').csv(filePath))"
   ]
  },
  {
   "cell_type": "markdown",
   "metadata": {
    "application/vnd.databricks.v1+cell": {
     "cellMetadata": {},
     "inputWidgets": {},
     "nuid": "5d369783-a2d3-42d6-9c10-2fe8a3456b38",
     "showTitle": false,
     "title": ""
    }
   },
   "source": [
    "storing dataframe for faster access"
   ]
  },
  {
   "cell_type": "code",
   "execution_count": 0,
   "metadata": {
    "application/vnd.databricks.v1+cell": {
     "cellMetadata": {
      "byteLimit": 2048000,
      "rowLimit": 10000
     },
     "inputWidgets": {},
     "nuid": "c70c6faf-a0b3-4189-a9bd-f8b265274c2f",
     "showTitle": false,
     "title": ""
    }
   },
   "outputs": [
    {
     "name": "stdout",
     "output_type": "stream",
     "text": [
      "Out[11]: 113814"
     ]
    }
   ],
   "source": [
    "df.cache()\n",
    "\n",
    "# run the count action to materialize the cache\n",
    "df.count()"
   ]
  },
  {
   "cell_type": "code",
   "execution_count": 0,
   "metadata": {
    "application/vnd.databricks.v1+cell": {
     "cellMetadata": {
      "byteLimit": 2048000,
      "rowLimit": 10000
     },
     "inputWidgets": {},
     "nuid": "1b8809c0-c64f-4847-bfda-670b26788a88",
     "showTitle": false,
     "title": ""
    }
   },
   "outputs": [
    {
     "data": {
      "text/html": [
       "<style scoped>\n",
       "  .table-result-container {\n",
       "    max-height: 300px;\n",
       "    overflow: auto;\n",
       "  }\n",
       "  table, th, td {\n",
       "    border: 1px solid black;\n",
       "    border-collapse: collapse;\n",
       "  }\n",
       "  th, td {\n",
       "    padding: 5px;\n",
       "  }\n",
       "  th {\n",
       "    text-align: left;\n",
       "  }\n",
       "</style><div class='table-result-container'><table class='table-result'><thead style='background-color: white'><tr><th>id</th><th>name</th><th>username</th><th>tweet</th><th>followers_count</th><th>location</th><th>geo</th><th>created_at</th></tr></thead><tbody><tr><td>1595930122003320832</td><td>Alan L. Stewart - unetomaterouge</td><td>unetomaterouge</td><td>RT @ProgIntl: BREAKING: Tomorrow, Amazon workers at 18 warehouses are going on strike in France and Germany to #MakeAmazonPay, with many ot…</td><td>2394</td><td>None</td><td>None</td><td>Thu Nov 24 23:59:26 +0000 2022</td></tr><tr><td>1595930122124550144</td><td>Bismillah BigWin</td><td>CityxWin0</td><td>RT @ChiefElrond: $50 | 24 Hours   🥏 RT &amp; Follow:    @CryptoCoinCoach   +  @NeblioTeam  (BE ACTIVE ON PROFILE)  Tweet #NEBL  NEXT GEM ON BLA…</td><td>262</td><td>None</td><td>None</td><td>Thu Nov 24 23:59:26 +0000 2022</td></tr><tr><td>1595930122682478592</td><td>Fuck You I Quit</td><td>fuckyouiquit</td><td>This is the only Black Friday ad you need to see https://t.co/7Hj3CR4YlS</td><td>272510</td><td>Corporate Accounts Payable</td><td>None</td><td>Thu Nov 24 23:59:26 +0000 2022</td></tr><tr><td>1595930123337105417</td><td>kumiii🐻 • freetag</td><td>chunvrwin</td><td>RT @jihanicorn: $150 | 2.250.000 IDR • 24 Hours 💜  - RT &amp; Follow @CryptoCoinCoach + @NeblioTeam  ____________________________ (BE ACTIVE ON…</td><td>53</td><td>🍀</td><td>None</td><td>Thu Nov 24 23:59:27 +0000 2022</td></tr><tr><td>1595930124075294722</td><td>D_Adrian</td><td>DexaWinWin</td><td>RT @HeiraCrypto: $100 ~ Ends in 24 hrs.   🔶 RT - Follow:    @CryptoCoinCoach  +  @NeblioTeam  (BE ACTIVE ON PROFILE)  Tweet #NEBL  NEXT GEM…</td><td>45</td><td>None</td><td>None</td><td>Thu Nov 24 23:59:27 +0000 2022</td></tr><tr><td>1595930124305649664</td><td>$NEST 🎄$TTC freetag sepuasnya🍀</td><td>desnumber1</td><td>RT @May7ven: $50 — 24 Hours —   ➖RT &amp; Follow:    @CryptoCoinCoach   +   @NeblioTeam  (BE ACTIVE ON PROFILE)  Tweet #NEBL  NEXT GEM ON BLACK…</td><td>189</td><td>kwangya </td><td>None</td><td>Thu Nov 24 23:59:27 +0000 2022</td></tr><tr><td>1595930125413285890</td><td>bigwin 🔥 $COOKIES 🍪</td><td>0xbigwinasn</td><td>RT @Beast_Cryptox: 💰 $70 ~ 24 HOURS 🐄🦥  ➖ RT &amp; Follow  @CryptoCoinCoach @NeblioTeam ----------------- (BE ACTIVE ON PROFILE)  Tweet - #NEBL…</td><td>42</td><td>Jawa Tengah, Indonesia</td><td>None</td><td>Thu Nov 24 23:59:27 +0000 2022</td></tr><tr><td>1595930125903990784</td><td>Rex00o</td><td>Rex00o2</td><td>RT @GFuelEnergy: 💛 𝗟𝗜𝗞𝗘 + 𝗥𝗧 to win a #BanjoKazooie x #GFUEL \"HONEY BERRY\" Tub!!! Picking 2 winners tomorrow bc we just RESTOCKED these bab…</td><td>23</td><td>None</td><td>None</td><td>Thu Nov 24 23:59:27 +0000 2022</td></tr><tr><td>1595930126499332099</td><td>CJ Tocco</td><td>DMAlCo241</td><td>@ThisIsKyleR Working for doubletime and a half is MY tradition. Of course, the sweet paycheck gets gobbled up on Bl… https://t.co/kaDhOvmW5n</td><td>23</td><td>None</td><td>None</td><td>Thu Nov 24 23:59:27 +0000 2022</td></tr><tr><td>1595930127816609792</td><td>Martin Jones</td><td>BackPackJones</td><td>If y’all don’t get y’all grandma a tv for Black Friday</td><td>616</td><td>Dallas, TX</td><td>None</td><td>Thu Nov 24 23:59:28 +0000 2022</td></tr></tbody></table></div>"
      ]
     },
     "metadata": {
      "application/vnd.databricks.v1+output": {
       "addedWidgets": {},
       "aggData": [],
       "aggError": "",
       "aggOverflow": false,
       "aggSchema": [],
       "aggSeriesLimitReached": false,
       "aggType": "",
       "arguments": {},
       "columnCustomDisplayInfos": {},
       "data": [
        [
         "1595930122003320832",
         "Alan L. Stewart - unetomaterouge",
         "unetomaterouge",
         "RT @ProgIntl: BREAKING: Tomorrow, Amazon workers at 18 warehouses are going on strike in France and Germany to #MakeAmazonPay, with many ot…",
         "2394",
         "None",
         "None",
         "Thu Nov 24 23:59:26 +0000 2022"
        ],
        [
         "1595930122124550144",
         "Bismillah BigWin",
         "CityxWin0",
         "RT @ChiefElrond: $50 | 24 Hours   🥏 RT &amp; Follow:    @CryptoCoinCoach   +  @NeblioTeam  (BE ACTIVE ON PROFILE)  Tweet #NEBL  NEXT GEM ON BLA…",
         "262",
         "None",
         "None",
         "Thu Nov 24 23:59:26 +0000 2022"
        ],
        [
         "1595930122682478592",
         "Fuck You I Quit",
         "fuckyouiquit",
         "This is the only Black Friday ad you need to see https://t.co/7Hj3CR4YlS",
         "272510",
         "Corporate Accounts Payable",
         "None",
         "Thu Nov 24 23:59:26 +0000 2022"
        ],
        [
         "1595930123337105417",
         "kumiii🐻 • freetag",
         "chunvrwin",
         "RT @jihanicorn: $150 | 2.250.000 IDR • 24 Hours 💜  - RT &amp; Follow @CryptoCoinCoach + @NeblioTeam  ____________________________ (BE ACTIVE ON…",
         "53",
         "🍀",
         "None",
         "Thu Nov 24 23:59:27 +0000 2022"
        ],
        [
         "1595930124075294722",
         "D_Adrian",
         "DexaWinWin",
         "RT @HeiraCrypto: $100 ~ Ends in 24 hrs.   🔶 RT - Follow:    @CryptoCoinCoach  +  @NeblioTeam  (BE ACTIVE ON PROFILE)  Tweet #NEBL  NEXT GEM…",
         "45",
         "None",
         "None",
         "Thu Nov 24 23:59:27 +0000 2022"
        ],
        [
         "1595930124305649664",
         "$NEST 🎄$TTC freetag sepuasnya🍀",
         "desnumber1",
         "RT @May7ven: $50 — 24 Hours —   ➖RT &amp; Follow:    @CryptoCoinCoach   +   @NeblioTeam  (BE ACTIVE ON PROFILE)  Tweet #NEBL  NEXT GEM ON BLACK…",
         "189",
         "kwangya ",
         "None",
         "Thu Nov 24 23:59:27 +0000 2022"
        ],
        [
         "1595930125413285890",
         "bigwin 🔥 $COOKIES 🍪",
         "0xbigwinasn",
         "RT @Beast_Cryptox: 💰 $70 ~ 24 HOURS 🐄🦥  ➖ RT &amp; Follow  @CryptoCoinCoach @NeblioTeam ----------------- (BE ACTIVE ON PROFILE)  Tweet - #NEBL…",
         "42",
         "Jawa Tengah, Indonesia",
         "None",
         "Thu Nov 24 23:59:27 +0000 2022"
        ],
        [
         "1595930125903990784",
         "Rex00o",
         "Rex00o2",
         "RT @GFuelEnergy: 💛 𝗟𝗜𝗞𝗘 + 𝗥𝗧 to win a #BanjoKazooie x #GFUEL \"HONEY BERRY\" Tub!!! Picking 2 winners tomorrow bc we just RESTOCKED these bab…",
         "23",
         "None",
         "None",
         "Thu Nov 24 23:59:27 +0000 2022"
        ],
        [
         "1595930126499332099",
         "CJ Tocco",
         "DMAlCo241",
         "@ThisIsKyleR Working for doubletime and a half is MY tradition. Of course, the sweet paycheck gets gobbled up on Bl… https://t.co/kaDhOvmW5n",
         "23",
         "None",
         "None",
         "Thu Nov 24 23:59:27 +0000 2022"
        ],
        [
         "1595930127816609792",
         "Martin Jones",
         "BackPackJones",
         "If y’all don’t get y’all grandma a tv for Black Friday",
         "616",
         "Dallas, TX",
         "None",
         "Thu Nov 24 23:59:28 +0000 2022"
        ]
       ],
       "datasetInfos": [],
       "dbfsResultPath": null,
       "isJsonSchema": true,
       "metadata": {},
       "overflow": false,
       "plotOptions": {
        "customPlotOptions": {},
        "displayType": "table",
        "pivotAggregation": null,
        "pivotColumns": null,
        "xColumns": null,
        "yColumns": null
       },
       "removedWidgets": [],
       "schema": [
        {
         "metadata": "{}",
         "name": "id",
         "type": "\"string\""
        },
        {
         "metadata": "{}",
         "name": "name",
         "type": "\"string\""
        },
        {
         "metadata": "{}",
         "name": "username",
         "type": "\"string\""
        },
        {
         "metadata": "{}",
         "name": "tweet",
         "type": "\"string\""
        },
        {
         "metadata": "{}",
         "name": "followers_count",
         "type": "\"string\""
        },
        {
         "metadata": "{}",
         "name": "location",
         "type": "\"string\""
        },
        {
         "metadata": "{}",
         "name": "geo",
         "type": "\"string\""
        },
        {
         "metadata": "{}",
         "name": "created_at",
         "type": "\"string\""
        }
       ],
       "type": "table"
      }
     },
     "output_type": "display_data"
    }
   ],
   "source": [
    "display(df.head(10))"
   ]
  },
  {
   "cell_type": "code",
   "execution_count": 0,
   "metadata": {
    "application/vnd.databricks.v1+cell": {
     "cellMetadata": {
      "byteLimit": 2048000,
      "rowLimit": 10000
     },
     "inputWidgets": {},
     "nuid": "7ef39a5e-89ed-4d03-9e9c-8b19d445af32",
     "showTitle": false,
     "title": ""
    }
   },
   "outputs": [
    {
     "name": "stdout",
     "output_type": "stream",
     "text": [
      "Number of rows: 113814\n",
      "Number of columns: 8\n"
     ]
    }
   ],
   "source": [
    "# Get the shape of the DataFrame\n",
    "num_rows = df.count()\n",
    "num_cols = len(df.columns)\n",
    "\n",
    "print(\"Number of rows:\", num_rows)\n",
    "print(\"Number of columns:\", num_cols)"
   ]
  },
  {
   "cell_type": "markdown",
   "metadata": {
    "application/vnd.databricks.v1+cell": {
     "cellMetadata": {},
     "inputWidgets": {},
     "nuid": "e269e2f6-d878-4010-8be7-7e2684ede987",
     "showTitle": false,
     "title": ""
    }
   },
   "source": [
    "### EDA"
   ]
  },
  {
   "cell_type": "markdown",
   "metadata": {
    "application/vnd.databricks.v1+cell": {
     "cellMetadata": {},
     "inputWidgets": {},
     "nuid": "804e54ec-3512-41a5-a539-035334032ee1",
     "showTitle": false,
     "title": ""
    }
   },
   "source": [
    "dropping rows with null values "
   ]
  },
  {
   "cell_type": "code",
   "execution_count": 0,
   "metadata": {
    "application/vnd.databricks.v1+cell": {
     "cellMetadata": {
      "byteLimit": 2048000,
      "rowLimit": 10000
     },
     "inputWidgets": {},
     "nuid": "f49973e4-1768-43b7-af5a-434730124a1f",
     "showTitle": false,
     "title": ""
    }
   },
   "outputs": [
    {
     "data": {
      "text/html": [
       "<style scoped>\n",
       "  .table-result-container {\n",
       "    max-height: 300px;\n",
       "    overflow: auto;\n",
       "  }\n",
       "  table, th, td {\n",
       "    border: 1px solid black;\n",
       "    border-collapse: collapse;\n",
       "  }\n",
       "  th, td {\n",
       "    padding: 5px;\n",
       "  }\n",
       "  th {\n",
       "    text-align: left;\n",
       "  }\n",
       "</style><div class='table-result-container'><table class='table-result'><thead style='background-color: white'><tr><th>id</th><th>name</th><th>username</th><th>tweet</th><th>followers_count</th><th>location</th><th>geo</th><th>created_at</th></tr></thead><tbody><tr><td>1595930122003320832</td><td>Alan L. Stewart - unetomaterouge</td><td>unetomaterouge</td><td>RT @ProgIntl: BREAKING: Tomorrow, Amazon workers at 18 warehouses are going on strike in France and Germany to #MakeAmazonPay, with many ot…</td><td>2394</td><td>None</td><td>None</td><td>Thu Nov 24 23:59:26 +0000 2022</td></tr><tr><td>1595930122124550144</td><td>Bismillah BigWin</td><td>CityxWin0</td><td>RT @ChiefElrond: $50 | 24 Hours   🥏 RT &amp; Follow:    @CryptoCoinCoach   +  @NeblioTeam  (BE ACTIVE ON PROFILE)  Tweet #NEBL  NEXT GEM ON BLA…</td><td>262</td><td>None</td><td>None</td><td>Thu Nov 24 23:59:26 +0000 2022</td></tr><tr><td>1595930122682478592</td><td>Fuck You I Quit</td><td>fuckyouiquit</td><td>This is the only Black Friday ad you need to see https://t.co/7Hj3CR4YlS</td><td>272510</td><td>Corporate Accounts Payable</td><td>None</td><td>Thu Nov 24 23:59:26 +0000 2022</td></tr><tr><td>1595930123337105417</td><td>kumiii🐻 • freetag</td><td>chunvrwin</td><td>RT @jihanicorn: $150 | 2.250.000 IDR • 24 Hours 💜  - RT &amp; Follow @CryptoCoinCoach + @NeblioTeam  ____________________________ (BE ACTIVE ON…</td><td>53</td><td>🍀</td><td>None</td><td>Thu Nov 24 23:59:27 +0000 2022</td></tr><tr><td>1595930124075294722</td><td>D_Adrian</td><td>DexaWinWin</td><td>RT @HeiraCrypto: $100 ~ Ends in 24 hrs.   🔶 RT - Follow:    @CryptoCoinCoach  +  @NeblioTeam  (BE ACTIVE ON PROFILE)  Tweet #NEBL  NEXT GEM…</td><td>45</td><td>None</td><td>None</td><td>Thu Nov 24 23:59:27 +0000 2022</td></tr><tr><td>1595930124305649664</td><td>$NEST 🎄$TTC freetag sepuasnya🍀</td><td>desnumber1</td><td>RT @May7ven: $50 — 24 Hours —   ➖RT &amp; Follow:    @CryptoCoinCoach   +   @NeblioTeam  (BE ACTIVE ON PROFILE)  Tweet #NEBL  NEXT GEM ON BLACK…</td><td>189</td><td>kwangya </td><td>None</td><td>Thu Nov 24 23:59:27 +0000 2022</td></tr><tr><td>1595930125413285890</td><td>bigwin 🔥 $COOKIES 🍪</td><td>0xbigwinasn</td><td>RT @Beast_Cryptox: 💰 $70 ~ 24 HOURS 🐄🦥  ➖ RT &amp; Follow  @CryptoCoinCoach @NeblioTeam ----------------- (BE ACTIVE ON PROFILE)  Tweet - #NEBL…</td><td>42</td><td>Jawa Tengah, Indonesia</td><td>None</td><td>Thu Nov 24 23:59:27 +0000 2022</td></tr><tr><td>1595930125903990784</td><td>Rex00o</td><td>Rex00o2</td><td>RT @GFuelEnergy: 💛 𝗟𝗜𝗞𝗘 + 𝗥𝗧 to win a #BanjoKazooie x #GFUEL \"HONEY BERRY\" Tub!!! Picking 2 winners tomorrow bc we just RESTOCKED these bab…</td><td>23</td><td>None</td><td>None</td><td>Thu Nov 24 23:59:27 +0000 2022</td></tr><tr><td>1595930126499332099</td><td>CJ Tocco</td><td>DMAlCo241</td><td>@ThisIsKyleR Working for doubletime and a half is MY tradition. Of course, the sweet paycheck gets gobbled up on Bl… https://t.co/kaDhOvmW5n</td><td>23</td><td>None</td><td>None</td><td>Thu Nov 24 23:59:27 +0000 2022</td></tr><tr><td>1595930127816609792</td><td>Martin Jones</td><td>BackPackJones</td><td>If y’all don’t get y’all grandma a tv for Black Friday</td><td>616</td><td>Dallas, TX</td><td>None</td><td>Thu Nov 24 23:59:28 +0000 2022</td></tr></tbody></table></div>"
      ]
     },
     "metadata": {
      "application/vnd.databricks.v1+output": {
       "addedWidgets": {},
       "aggData": [],
       "aggError": "",
       "aggOverflow": false,
       "aggSchema": [],
       "aggSeriesLimitReached": false,
       "aggType": "",
       "arguments": {},
       "columnCustomDisplayInfos": {},
       "data": [
        [
         "1595930122003320832",
         "Alan L. Stewart - unetomaterouge",
         "unetomaterouge",
         "RT @ProgIntl: BREAKING: Tomorrow, Amazon workers at 18 warehouses are going on strike in France and Germany to #MakeAmazonPay, with many ot…",
         "2394",
         "None",
         "None",
         "Thu Nov 24 23:59:26 +0000 2022"
        ],
        [
         "1595930122124550144",
         "Bismillah BigWin",
         "CityxWin0",
         "RT @ChiefElrond: $50 | 24 Hours   🥏 RT &amp; Follow:    @CryptoCoinCoach   +  @NeblioTeam  (BE ACTIVE ON PROFILE)  Tweet #NEBL  NEXT GEM ON BLA…",
         "262",
         "None",
         "None",
         "Thu Nov 24 23:59:26 +0000 2022"
        ],
        [
         "1595930122682478592",
         "Fuck You I Quit",
         "fuckyouiquit",
         "This is the only Black Friday ad you need to see https://t.co/7Hj3CR4YlS",
         "272510",
         "Corporate Accounts Payable",
         "None",
         "Thu Nov 24 23:59:26 +0000 2022"
        ],
        [
         "1595930123337105417",
         "kumiii🐻 • freetag",
         "chunvrwin",
         "RT @jihanicorn: $150 | 2.250.000 IDR • 24 Hours 💜  - RT &amp; Follow @CryptoCoinCoach + @NeblioTeam  ____________________________ (BE ACTIVE ON…",
         "53",
         "🍀",
         "None",
         "Thu Nov 24 23:59:27 +0000 2022"
        ],
        [
         "1595930124075294722",
         "D_Adrian",
         "DexaWinWin",
         "RT @HeiraCrypto: $100 ~ Ends in 24 hrs.   🔶 RT - Follow:    @CryptoCoinCoach  +  @NeblioTeam  (BE ACTIVE ON PROFILE)  Tweet #NEBL  NEXT GEM…",
         "45",
         "None",
         "None",
         "Thu Nov 24 23:59:27 +0000 2022"
        ],
        [
         "1595930124305649664",
         "$NEST 🎄$TTC freetag sepuasnya🍀",
         "desnumber1",
         "RT @May7ven: $50 — 24 Hours —   ➖RT &amp; Follow:    @CryptoCoinCoach   +   @NeblioTeam  (BE ACTIVE ON PROFILE)  Tweet #NEBL  NEXT GEM ON BLACK…",
         "189",
         "kwangya ",
         "None",
         "Thu Nov 24 23:59:27 +0000 2022"
        ],
        [
         "1595930125413285890",
         "bigwin 🔥 $COOKIES 🍪",
         "0xbigwinasn",
         "RT @Beast_Cryptox: 💰 $70 ~ 24 HOURS 🐄🦥  ➖ RT &amp; Follow  @CryptoCoinCoach @NeblioTeam ----------------- (BE ACTIVE ON PROFILE)  Tweet - #NEBL…",
         "42",
         "Jawa Tengah, Indonesia",
         "None",
         "Thu Nov 24 23:59:27 +0000 2022"
        ],
        [
         "1595930125903990784",
         "Rex00o",
         "Rex00o2",
         "RT @GFuelEnergy: 💛 𝗟𝗜𝗞𝗘 + 𝗥𝗧 to win a #BanjoKazooie x #GFUEL \"HONEY BERRY\" Tub!!! Picking 2 winners tomorrow bc we just RESTOCKED these bab…",
         "23",
         "None",
         "None",
         "Thu Nov 24 23:59:27 +0000 2022"
        ],
        [
         "1595930126499332099",
         "CJ Tocco",
         "DMAlCo241",
         "@ThisIsKyleR Working for doubletime and a half is MY tradition. Of course, the sweet paycheck gets gobbled up on Bl… https://t.co/kaDhOvmW5n",
         "23",
         "None",
         "None",
         "Thu Nov 24 23:59:27 +0000 2022"
        ],
        [
         "1595930127816609792",
         "Martin Jones",
         "BackPackJones",
         "If y’all don’t get y’all grandma a tv for Black Friday",
         "616",
         "Dallas, TX",
         "None",
         "Thu Nov 24 23:59:28 +0000 2022"
        ]
       ],
       "datasetInfos": [],
       "dbfsResultPath": null,
       "isJsonSchema": true,
       "metadata": {},
       "overflow": false,
       "plotOptions": {
        "customPlotOptions": {},
        "displayType": "table",
        "pivotAggregation": null,
        "pivotColumns": null,
        "xColumns": null,
        "yColumns": null
       },
       "removedWidgets": [],
       "schema": [
        {
         "metadata": "{}",
         "name": "id",
         "type": "\"string\""
        },
        {
         "metadata": "{}",
         "name": "name",
         "type": "\"string\""
        },
        {
         "metadata": "{}",
         "name": "username",
         "type": "\"string\""
        },
        {
         "metadata": "{}",
         "name": "tweet",
         "type": "\"string\""
        },
        {
         "metadata": "{}",
         "name": "followers_count",
         "type": "\"string\""
        },
        {
         "metadata": "{}",
         "name": "location",
         "type": "\"string\""
        },
        {
         "metadata": "{}",
         "name": "geo",
         "type": "\"string\""
        },
        {
         "metadata": "{}",
         "name": "created_at",
         "type": "\"string\""
        }
       ],
       "type": "table"
      }
     },
     "output_type": "display_data"
    }
   ],
   "source": [
    "df = df.dropna(subset=[\"tweet\"])\n",
    "display(df.head(10))"
   ]
  },
  {
   "cell_type": "markdown",
   "metadata": {
    "application/vnd.databricks.v1+cell": {
     "cellMetadata": {},
     "inputWidgets": {},
     "nuid": "2b90d9a6-9179-49bd-981b-45ddb0bb8d10",
     "showTitle": false,
     "title": ""
    }
   },
   "source": [
    "####Create Sentiment column using VADER"
   ]
  },
  {
   "cell_type": "code",
   "execution_count": 0,
   "metadata": {
    "application/vnd.databricks.v1+cell": {
     "cellMetadata": {
      "byteLimit": 2048000,
      "rowLimit": 10000
     },
     "inputWidgets": {},
     "nuid": "2bf928bd-f2ff-4321-b5dd-60cca541febb",
     "showTitle": false,
     "title": ""
    }
   },
   "outputs": [],
   "source": [
    "# define a function to get sentiment score using VADER\n",
    "def getSentimentScore(tweetText):\n",
    "    sia = SentimentIntensityAnalyzer()\n",
    "    ss = sia.polarity_scores(tweetText)\n",
    "    return float(ss['compound'])\n",
    "\n",
    "# define a function to get sentiment\n",
    "def getSentiment(score):\n",
    "    return 1 if score >= 0 else 0"
   ]
  },
  {
   "cell_type": "code",
   "execution_count": 0,
   "metadata": {
    "application/vnd.databricks.v1+cell": {
     "cellMetadata": {
      "byteLimit": 2048000,
      "rowLimit": 10000
     },
     "inputWidgets": {},
     "nuid": "d91ac449-53a5-4e18-a2d0-9e71d55d0998",
     "showTitle": false,
     "title": ""
    }
   },
   "outputs": [],
   "source": [
    "udfss=udf(getSentimentScore, FloatType())\n",
    "df = df.withColumn('sentiment score',udfss('tweet'))"
   ]
  },
  {
   "cell_type": "code",
   "execution_count": 0,
   "metadata": {
    "application/vnd.databricks.v1+cell": {
     "cellMetadata": {
      "byteLimit": 2048000,
      "rowLimit": 10000
     },
     "inputWidgets": {},
     "nuid": "f9331983-028a-45b8-8d79-8466508f3f7a",
     "showTitle": false,
     "title": ""
    }
   },
   "outputs": [],
   "source": [
    "udfSentiment = udf(getSentiment, IntegerType())\n",
    "df1 = df.withColumn('sentiment', udfSentiment('sentiment score'))"
   ]
  },
  {
   "cell_type": "code",
   "execution_count": 0,
   "metadata": {
    "application/vnd.databricks.v1+cell": {
     "cellMetadata": {
      "byteLimit": 2048000,
      "rowLimit": 10000
     },
     "inputWidgets": {},
     "nuid": "e36b6d45-309f-460c-a1b1-168142ae31bc",
     "showTitle": false,
     "title": ""
    }
   },
   "outputs": [
    {
     "data": {
      "text/html": [
       "<style scoped>\n",
       "  .table-result-container {\n",
       "    max-height: 300px;\n",
       "    overflow: auto;\n",
       "  }\n",
       "  table, th, td {\n",
       "    border: 1px solid black;\n",
       "    border-collapse: collapse;\n",
       "  }\n",
       "  th, td {\n",
       "    padding: 5px;\n",
       "  }\n",
       "  th {\n",
       "    text-align: left;\n",
       "  }\n",
       "</style><div class='table-result-container'><table class='table-result'><thead style='background-color: white'><tr><th>id</th><th>name</th><th>username</th><th>tweet</th><th>followers_count</th><th>location</th><th>geo</th><th>created_at</th><th>sentiment score</th><th>sentiment</th></tr></thead><tbody><tr><td>1595930122003320832</td><td>Alan L. Stewart - unetomaterouge</td><td>unetomaterouge</td><td>RT @ProgIntl: BREAKING: Tomorrow, Amazon workers at 18 warehouses are going on strike in France and Germany to #MakeAmazonPay, with many ot…</td><td>2394</td><td>None</td><td>None</td><td>Thu Nov 24 23:59:26 +0000 2022</td><td>0.051600001752376556</td><td>1</td></tr><tr><td>1595930122124550144</td><td>Bismillah BigWin</td><td>CityxWin0</td><td>RT @ChiefElrond: $50 | 24 Hours   🥏 RT &amp; Follow:    @CryptoCoinCoach   +  @NeblioTeam  (BE ACTIVE ON PROFILE)  Tweet #NEBL  NEXT GEM ON BLA…</td><td>262</td><td>None</td><td>None</td><td>Thu Nov 24 23:59:26 +0000 2022</td><td>0.5318999886512756</td><td>1</td></tr><tr><td>1595930122682478592</td><td>Fuck You I Quit</td><td>fuckyouiquit</td><td>This is the only Black Friday ad you need to see https://t.co/7Hj3CR4YlS</td><td>272510</td><td>Corporate Accounts Payable</td><td>None</td><td>Thu Nov 24 23:59:26 +0000 2022</td><td>0.0</td><td>1</td></tr><tr><td>1595930123337105417</td><td>kumiii🐻 • freetag</td><td>chunvrwin</td><td>RT @jihanicorn: $150 | 2.250.000 IDR • 24 Hours 💜  - RT &amp; Follow @CryptoCoinCoach + @NeblioTeam  ____________________________ (BE ACTIVE ON…</td><td>53</td><td>🍀</td><td>None</td><td>Thu Nov 24 23:59:27 +0000 2022</td><td>0.8240000009536743</td><td>1</td></tr><tr><td>1595930124075294722</td><td>D_Adrian</td><td>DexaWinWin</td><td>RT @HeiraCrypto: $100 ~ Ends in 24 hrs.   🔶 RT - Follow:    @CryptoCoinCoach  +  @NeblioTeam  (BE ACTIVE ON PROFILE)  Tweet #NEBL  NEXT GEM…</td><td>45</td><td>None</td><td>None</td><td>Thu Nov 24 23:59:27 +0000 2022</td><td>0.7034000158309937</td><td>1</td></tr></tbody></table></div>"
      ]
     },
     "metadata": {
      "application/vnd.databricks.v1+output": {
       "addedWidgets": {},
       "aggData": [],
       "aggError": "",
       "aggOverflow": false,
       "aggSchema": [],
       "aggSeriesLimitReached": false,
       "aggType": "",
       "arguments": {},
       "columnCustomDisplayInfos": {},
       "data": [
        [
         "1595930122003320832",
         "Alan L. Stewart - unetomaterouge",
         "unetomaterouge",
         "RT @ProgIntl: BREAKING: Tomorrow, Amazon workers at 18 warehouses are going on strike in France and Germany to #MakeAmazonPay, with many ot…",
         "2394",
         "None",
         "None",
         "Thu Nov 24 23:59:26 +0000 2022",
         0.051600001752376556,
         1
        ],
        [
         "1595930122124550144",
         "Bismillah BigWin",
         "CityxWin0",
         "RT @ChiefElrond: $50 | 24 Hours   🥏 RT &amp; Follow:    @CryptoCoinCoach   +  @NeblioTeam  (BE ACTIVE ON PROFILE)  Tweet #NEBL  NEXT GEM ON BLA…",
         "262",
         "None",
         "None",
         "Thu Nov 24 23:59:26 +0000 2022",
         0.5318999886512756,
         1
        ],
        [
         "1595930122682478592",
         "Fuck You I Quit",
         "fuckyouiquit",
         "This is the only Black Friday ad you need to see https://t.co/7Hj3CR4YlS",
         "272510",
         "Corporate Accounts Payable",
         "None",
         "Thu Nov 24 23:59:26 +0000 2022",
         0,
         1
        ],
        [
         "1595930123337105417",
         "kumiii🐻 • freetag",
         "chunvrwin",
         "RT @jihanicorn: $150 | 2.250.000 IDR • 24 Hours 💜  - RT &amp; Follow @CryptoCoinCoach + @NeblioTeam  ____________________________ (BE ACTIVE ON…",
         "53",
         "🍀",
         "None",
         "Thu Nov 24 23:59:27 +0000 2022",
         0.8240000009536743,
         1
        ],
        [
         "1595930124075294722",
         "D_Adrian",
         "DexaWinWin",
         "RT @HeiraCrypto: $100 ~ Ends in 24 hrs.   🔶 RT - Follow:    @CryptoCoinCoach  +  @NeblioTeam  (BE ACTIVE ON PROFILE)  Tweet #NEBL  NEXT GEM…",
         "45",
         "None",
         "None",
         "Thu Nov 24 23:59:27 +0000 2022",
         0.7034000158309937,
         1
        ]
       ],
       "datasetInfos": [],
       "dbfsResultPath": null,
       "isJsonSchema": true,
       "metadata": {},
       "overflow": false,
       "plotOptions": {
        "customPlotOptions": {},
        "displayType": "table",
        "pivotAggregation": null,
        "pivotColumns": null,
        "xColumns": null,
        "yColumns": null
       },
       "removedWidgets": [],
       "schema": [
        {
         "metadata": "{}",
         "name": "id",
         "type": "\"string\""
        },
        {
         "metadata": "{}",
         "name": "name",
         "type": "\"string\""
        },
        {
         "metadata": "{}",
         "name": "username",
         "type": "\"string\""
        },
        {
         "metadata": "{}",
         "name": "tweet",
         "type": "\"string\""
        },
        {
         "metadata": "{}",
         "name": "followers_count",
         "type": "\"string\""
        },
        {
         "metadata": "{}",
         "name": "location",
         "type": "\"string\""
        },
        {
         "metadata": "{}",
         "name": "geo",
         "type": "\"string\""
        },
        {
         "metadata": "{}",
         "name": "created_at",
         "type": "\"string\""
        },
        {
         "metadata": "{}",
         "name": "sentiment score",
         "type": "\"double\""
        },
        {
         "metadata": "{}",
         "name": "sentiment",
         "type": "\"long\""
        }
       ],
       "type": "table"
      }
     },
     "output_type": "display_data"
    }
   ],
   "source": [
    "display(df1.head(5))"
   ]
  },
  {
   "cell_type": "code",
   "execution_count": 0,
   "metadata": {
    "application/vnd.databricks.v1+cell": {
     "cellMetadata": {
      "byteLimit": 2048000,
      "rowLimit": 10000
     },
     "inputWidgets": {},
     "nuid": "e4833226-8997-434e-b163-5a0f2db7e910",
     "showTitle": false,
     "title": ""
    }
   },
   "outputs": [
    {
     "data": {
      "text/html": [
       "<style scoped>\n",
       "  .table-result-container {\n",
       "    max-height: 300px;\n",
       "    overflow: auto;\n",
       "  }\n",
       "  table, th, td {\n",
       "    border: 1px solid black;\n",
       "    border-collapse: collapse;\n",
       "  }\n",
       "  th, td {\n",
       "    padding: 5px;\n",
       "  }\n",
       "  th {\n",
       "    text-align: left;\n",
       "  }\n",
       "</style><div class='table-result-container'><table class='table-result'><thead style='background-color: white'><tr><th>sentiment</th><th>tweet</th></tr></thead><tbody><tr><td>1</td><td>RT @ProgIntl: BREAKING: Tomorrow, Amazon workers at 18 warehouses are going on strike in France and Germany to #MakeAmazonPay, with many ot…</td></tr><tr><td>1</td><td>RT @ChiefElrond: $50 | 24 Hours   🥏 RT &amp; Follow:    @CryptoCoinCoach   +  @NeblioTeam  (BE ACTIVE ON PROFILE)  Tweet #NEBL  NEXT GEM ON BLA…</td></tr><tr><td>1</td><td>This is the only Black Friday ad you need to see https://t.co/7Hj3CR4YlS</td></tr><tr><td>1</td><td>RT @jihanicorn: $150 | 2.250.000 IDR • 24 Hours 💜  - RT &amp; Follow @CryptoCoinCoach + @NeblioTeam  ____________________________ (BE ACTIVE ON…</td></tr><tr><td>1</td><td>RT @HeiraCrypto: $100 ~ Ends in 24 hrs.   🔶 RT - Follow:    @CryptoCoinCoach  +  @NeblioTeam  (BE ACTIVE ON PROFILE)  Tweet #NEBL  NEXT GEM…</td></tr><tr><td>1</td><td>RT @May7ven: $50 — 24 Hours —   ➖RT &amp; Follow:    @CryptoCoinCoach   +   @NeblioTeam  (BE ACTIVE ON PROFILE)  Tweet #NEBL  NEXT GEM ON BLACK…</td></tr><tr><td>1</td><td>RT @Beast_Cryptox: 💰 $70 ~ 24 HOURS 🐄🦥  ➖ RT &amp; Follow  @CryptoCoinCoach @NeblioTeam ----------------- (BE ACTIVE ON PROFILE)  Tweet - #NEBL…</td></tr><tr><td>1</td><td>RT @GFuelEnergy: 💛 𝗟𝗜𝗞𝗘 + 𝗥𝗧 to win a #BanjoKazooie x #GFUEL \"HONEY BERRY\" Tub!!! Picking 2 winners tomorrow bc we just RESTOCKED these bab…</td></tr><tr><td>1</td><td>@ThisIsKyleR Working for doubletime and a half is MY tradition. Of course, the sweet paycheck gets gobbled up on Bl… https://t.co/kaDhOvmW5n</td></tr><tr><td>1</td><td>If y’all don’t get y’all grandma a tv for Black Friday</td></tr></tbody></table></div>"
      ]
     },
     "metadata": {
      "application/vnd.databricks.v1+output": {
       "addedWidgets": {},
       "aggData": [],
       "aggError": "",
       "aggOverflow": false,
       "aggSchema": [],
       "aggSeriesLimitReached": false,
       "aggType": "",
       "arguments": {},
       "columnCustomDisplayInfos": {},
       "data": [
        [
         1,
         "RT @ProgIntl: BREAKING: Tomorrow, Amazon workers at 18 warehouses are going on strike in France and Germany to #MakeAmazonPay, with many ot…"
        ],
        [
         1,
         "RT @ChiefElrond: $50 | 24 Hours   🥏 RT &amp; Follow:    @CryptoCoinCoach   +  @NeblioTeam  (BE ACTIVE ON PROFILE)  Tweet #NEBL  NEXT GEM ON BLA…"
        ],
        [
         1,
         "This is the only Black Friday ad you need to see https://t.co/7Hj3CR4YlS"
        ],
        [
         1,
         "RT @jihanicorn: $150 | 2.250.000 IDR • 24 Hours 💜  - RT &amp; Follow @CryptoCoinCoach + @NeblioTeam  ____________________________ (BE ACTIVE ON…"
        ],
        [
         1,
         "RT @HeiraCrypto: $100 ~ Ends in 24 hrs.   🔶 RT - Follow:    @CryptoCoinCoach  +  @NeblioTeam  (BE ACTIVE ON PROFILE)  Tweet #NEBL  NEXT GEM…"
        ],
        [
         1,
         "RT @May7ven: $50 — 24 Hours —   ➖RT &amp; Follow:    @CryptoCoinCoach   +   @NeblioTeam  (BE ACTIVE ON PROFILE)  Tweet #NEBL  NEXT GEM ON BLACK…"
        ],
        [
         1,
         "RT @Beast_Cryptox: 💰 $70 ~ 24 HOURS 🐄🦥  ➖ RT &amp; Follow  @CryptoCoinCoach @NeblioTeam ----------------- (BE ACTIVE ON PROFILE)  Tweet - #NEBL…"
        ],
        [
         1,
         "RT @GFuelEnergy: 💛 𝗟𝗜𝗞𝗘 + 𝗥𝗧 to win a #BanjoKazooie x #GFUEL \"HONEY BERRY\" Tub!!! Picking 2 winners tomorrow bc we just RESTOCKED these bab…"
        ],
        [
         1,
         "@ThisIsKyleR Working for doubletime and a half is MY tradition. Of course, the sweet paycheck gets gobbled up on Bl… https://t.co/kaDhOvmW5n"
        ],
        [
         1,
         "If y’all don’t get y’all grandma a tv for Black Friday"
        ]
       ],
       "datasetInfos": [],
       "dbfsResultPath": null,
       "isJsonSchema": true,
       "metadata": {},
       "overflow": false,
       "plotOptions": {
        "customPlotOptions": {},
        "displayType": "table",
        "pivotAggregation": null,
        "pivotColumns": null,
        "xColumns": null,
        "yColumns": null
       },
       "removedWidgets": [],
       "schema": [
        {
         "metadata": "{}",
         "name": "sentiment",
         "type": "\"long\""
        },
        {
         "metadata": "{}",
         "name": "tweet",
         "type": "\"string\""
        }
       ],
       "type": "table"
      }
     },
     "output_type": "display_data"
    }
   ],
   "source": [
    "tweets=df1.select('sentiment','tweet')\n",
    "display(tweets.head(10))"
   ]
  },
  {
   "cell_type": "markdown",
   "metadata": {
    "application/vnd.databricks.v1+cell": {
     "cellMetadata": {},
     "inputWidgets": {},
     "nuid": "686cb1b8-81eb-464e-a400-426e70299c4a",
     "showTitle": false,
     "title": ""
    }
   },
   "source": [
    "###Text Cleaning Preprocessing"
   ]
  },
  {
   "cell_type": "markdown",
   "metadata": {
    "application/vnd.databricks.v1+cell": {
     "cellMetadata": {},
     "inputWidgets": {},
     "nuid": "8205e9bd-a6d0-497a-811c-a4f7a722af97",
     "showTitle": false,
     "title": ""
    }
   },
   "source": [
    "We'll be following these steps: Remove URLs such as http://cnn.com, Remove special characters, Substituting multiple spaces with single space, Lowercase all text, Trim the leading/trailing whitespaces"
   ]
  },
  {
   "cell_type": "code",
   "execution_count": 0,
   "metadata": {
    "application/vnd.databricks.v1+cell": {
     "cellMetadata": {
      "byteLimit": 2048000,
      "rowLimit": 10000
     },
     "inputWidgets": {},
     "nuid": "91172748-af03-4b14-819d-8b7880ba9503",
     "showTitle": false,
     "title": ""
    }
   },
   "outputs": [
    {
     "data": {
      "text/html": [
       "<style scoped>\n",
       "  .table-result-container {\n",
       "    max-height: 300px;\n",
       "    overflow: auto;\n",
       "  }\n",
       "  table, th, td {\n",
       "    border: 1px solid black;\n",
       "    border-collapse: collapse;\n",
       "  }\n",
       "  th, td {\n",
       "    padding: 5px;\n",
       "  }\n",
       "  th {\n",
       "    text-align: left;\n",
       "  }\n",
       "</style><div class='table-result-container'><table class='table-result'><thead style='background-color: white'><tr><th>sentiment</th><th>tweet</th></tr></thead><tbody><tr><td>1</td><td>rt progintl breaking tomorrow amazon workers at warehouses are going on strike in france and germany to makeamazonpay with many ot</td></tr><tr><td>1</td><td>rt chiefelrond hours rt amp follow cryptocoincoach neblioteam be active on profile tweet nebl next gem on bla</td></tr><tr><td>1</td><td>this is the only black friday ad you need to see</td></tr><tr><td>1</td><td>rt jihanicorn idr hours rt amp follow cryptocoincoach neblioteam ____________________________ be active on</td></tr><tr><td>1</td><td>rt heiracrypto ends in hrs rt follow cryptocoincoach neblioteam be active on profile tweet nebl next gem</td></tr></tbody></table></div>"
      ]
     },
     "metadata": {
      "application/vnd.databricks.v1+output": {
       "addedWidgets": {},
       "aggData": [],
       "aggError": "",
       "aggOverflow": false,
       "aggSchema": [],
       "aggSeriesLimitReached": false,
       "aggType": "",
       "arguments": {},
       "columnCustomDisplayInfos": {},
       "data": [
        [
         1,
         "rt progintl breaking tomorrow amazon workers at warehouses are going on strike in france and germany to makeamazonpay with many ot"
        ],
        [
         1,
         "rt chiefelrond hours rt amp follow cryptocoincoach neblioteam be active on profile tweet nebl next gem on bla"
        ],
        [
         1,
         "this is the only black friday ad you need to see"
        ],
        [
         1,
         "rt jihanicorn idr hours rt amp follow cryptocoincoach neblioteam ____________________________ be active on"
        ],
        [
         1,
         "rt heiracrypto ends in hrs rt follow cryptocoincoach neblioteam be active on profile tweet nebl next gem"
        ]
       ],
       "datasetInfos": [],
       "dbfsResultPath": null,
       "isJsonSchema": true,
       "metadata": {},
       "overflow": false,
       "plotOptions": {
        "customPlotOptions": {},
        "displayType": "table",
        "pivotAggregation": null,
        "pivotColumns": null,
        "xColumns": null,
        "yColumns": null
       },
       "removedWidgets": [],
       "schema": [
        {
         "metadata": "{}",
         "name": "sentiment",
         "type": "\"long\""
        },
        {
         "metadata": "{}",
         "name": "tweet",
         "type": "\"string\""
        }
       ],
       "type": "table"
      }
     },
     "output_type": "display_data"
    }
   ],
   "source": [
    "# clean the tweets as mentioned above\n",
    "tweets_clean = tweets.withColumn('tweet', F.regexp_replace('tweet', r\"http\\S+\", \"\")) \\\n",
    "                    .withColumn('tweet', F.regexp_replace('tweet', r\"[^a-zA-z]\", \" \")) \\\n",
    "                    .withColumn('tweet', F.regexp_replace('tweet', r\"\\s+\", \" \")) \\\n",
    "                    .withColumn('tweet', F.lower('tweet')) \\\n",
    "                    .withColumn('tweet', F.trim('tweet')) \n",
    "display(tweets_clean.head(5))"
   ]
  },
  {
   "cell_type": "markdown",
   "metadata": {
    "application/vnd.databricks.v1+cell": {
     "cellMetadata": {},
     "inputWidgets": {},
     "nuid": "86b58827-7ea2-4eba-b8aa-3ddae896406d",
     "showTitle": false,
     "title": ""
    }
   },
   "source": [
    "###Feature Transformer: Tokenizer"
   ]
  },
  {
   "cell_type": "code",
   "execution_count": 0,
   "metadata": {
    "application/vnd.databricks.v1+cell": {
     "cellMetadata": {
      "byteLimit": 2048000,
      "rowLimit": 10000
     },
     "inputWidgets": {},
     "nuid": "46d2e156-ee26-4bc9-b3c9-5fc0727f0940",
     "showTitle": false,
     "title": ""
    }
   },
   "outputs": [
    {
     "data": {
      "text/html": [
       "<style scoped>\n",
       "  .table-result-container {\n",
       "    max-height: 300px;\n",
       "    overflow: auto;\n",
       "  }\n",
       "  table, th, td {\n",
       "    border: 1px solid black;\n",
       "    border-collapse: collapse;\n",
       "  }\n",
       "  th, td {\n",
       "    padding: 5px;\n",
       "  }\n",
       "  th {\n",
       "    text-align: left;\n",
       "  }\n",
       "</style><div class='table-result-container'><table class='table-result'><thead style='background-color: white'><tr><th>sentiment</th><th>tweet</th><th>tokens</th></tr></thead><tbody><tr><td>1</td><td>rt progintl breaking tomorrow amazon workers at warehouses are going on strike in france and germany to makeamazonpay with many ot</td><td>List(rt, progintl, breaking, tomorrow, amazon, workers, at, warehouses, are, going, on, strike, in, france, and, germany, to, makeamazonpay, with, many, ot)</td></tr><tr><td>1</td><td>rt chiefelrond hours rt amp follow cryptocoincoach neblioteam be active on profile tweet nebl next gem on bla</td><td>List(rt, chiefelrond, hours, rt, amp, follow, cryptocoincoach, neblioteam, be, active, on, profile, tweet, nebl, next, gem, on, bla)</td></tr><tr><td>1</td><td>this is the only black friday ad you need to see</td><td>List(this, is, the, only, black, friday, ad, you, need, to, see)</td></tr><tr><td>1</td><td>rt jihanicorn idr hours rt amp follow cryptocoincoach neblioteam ____________________________ be active on</td><td>List(rt, jihanicorn, idr, hours, rt, amp, follow, cryptocoincoach, neblioteam, ____________________________, be, active, on)</td></tr><tr><td>1</td><td>rt heiracrypto ends in hrs rt follow cryptocoincoach neblioteam be active on profile tweet nebl next gem</td><td>List(rt, heiracrypto, ends, in, hrs, rt, follow, cryptocoincoach, neblioteam, be, active, on, profile, tweet, nebl, next, gem)</td></tr></tbody></table></div>"
      ]
     },
     "metadata": {
      "application/vnd.databricks.v1+output": {
       "addedWidgets": {},
       "aggData": [],
       "aggError": "",
       "aggOverflow": false,
       "aggSchema": [],
       "aggSeriesLimitReached": false,
       "aggType": "",
       "arguments": {},
       "columnCustomDisplayInfos": {},
       "data": [
        [
         1,
         "rt progintl breaking tomorrow amazon workers at warehouses are going on strike in france and germany to makeamazonpay with many ot",
         [
          "rt",
          "progintl",
          "breaking",
          "tomorrow",
          "amazon",
          "workers",
          "at",
          "warehouses",
          "are",
          "going",
          "on",
          "strike",
          "in",
          "france",
          "and",
          "germany",
          "to",
          "makeamazonpay",
          "with",
          "many",
          "ot"
         ]
        ],
        [
         1,
         "rt chiefelrond hours rt amp follow cryptocoincoach neblioteam be active on profile tweet nebl next gem on bla",
         [
          "rt",
          "chiefelrond",
          "hours",
          "rt",
          "amp",
          "follow",
          "cryptocoincoach",
          "neblioteam",
          "be",
          "active",
          "on",
          "profile",
          "tweet",
          "nebl",
          "next",
          "gem",
          "on",
          "bla"
         ]
        ],
        [
         1,
         "this is the only black friday ad you need to see",
         [
          "this",
          "is",
          "the",
          "only",
          "black",
          "friday",
          "ad",
          "you",
          "need",
          "to",
          "see"
         ]
        ],
        [
         1,
         "rt jihanicorn idr hours rt amp follow cryptocoincoach neblioteam ____________________________ be active on",
         [
          "rt",
          "jihanicorn",
          "idr",
          "hours",
          "rt",
          "amp",
          "follow",
          "cryptocoincoach",
          "neblioteam",
          "____________________________",
          "be",
          "active",
          "on"
         ]
        ],
        [
         1,
         "rt heiracrypto ends in hrs rt follow cryptocoincoach neblioteam be active on profile tweet nebl next gem",
         [
          "rt",
          "heiracrypto",
          "ends",
          "in",
          "hrs",
          "rt",
          "follow",
          "cryptocoincoach",
          "neblioteam",
          "be",
          "active",
          "on",
          "profile",
          "tweet",
          "nebl",
          "next",
          "gem"
         ]
        ]
       ],
       "datasetInfos": [],
       "dbfsResultPath": null,
       "isJsonSchema": true,
       "metadata": {},
       "overflow": false,
       "plotOptions": {
        "customPlotOptions": {},
        "displayType": "table",
        "pivotAggregation": null,
        "pivotColumns": null,
        "xColumns": null,
        "yColumns": null
       },
       "removedWidgets": [],
       "schema": [
        {
         "metadata": "{}",
         "name": "sentiment",
         "type": "\"long\""
        },
        {
         "metadata": "{}",
         "name": "tweet",
         "type": "\"string\""
        },
        {
         "metadata": "{}",
         "name": "tokens",
         "type": "{\"type\":\"array\",\"elementType\":\"string\",\"containsNull\":true}"
        }
       ],
       "type": "table"
      }
     },
     "output_type": "display_data"
    }
   ],
   "source": [
    "tokenizer = Tokenizer(inputCol=\"tweet\", outputCol=\"tokens\") \n",
    "tweets_tokenized = tokenizer.transform(tweets_clean)\n",
    "\n",
    "display(tweets_tokenized.head(5))"
   ]
  },
  {
   "cell_type": "markdown",
   "metadata": {
    "application/vnd.databricks.v1+cell": {
     "cellMetadata": {},
     "inputWidgets": {},
     "nuid": "d89a45b9-b416-4866-aa3f-f5f3b0a4ffc4",
     "showTitle": false,
     "title": ""
    }
   },
   "source": [
    "###Feature Transformer: Stopword Removal"
   ]
  },
  {
   "cell_type": "code",
   "execution_count": 0,
   "metadata": {
    "application/vnd.databricks.v1+cell": {
     "cellMetadata": {
      "byteLimit": 2048000,
      "rowLimit": 10000
     },
     "inputWidgets": {},
     "nuid": "a547c2a6-1532-41cd-8645-6f6e2e11841a",
     "showTitle": false,
     "title": ""
    }
   },
   "outputs": [
    {
     "data": {
      "text/html": [
       "<style scoped>\n",
       "  .table-result-container {\n",
       "    max-height: 300px;\n",
       "    overflow: auto;\n",
       "  }\n",
       "  table, th, td {\n",
       "    border: 1px solid black;\n",
       "    border-collapse: collapse;\n",
       "  }\n",
       "  th, td {\n",
       "    padding: 5px;\n",
       "  }\n",
       "  th {\n",
       "    text-align: left;\n",
       "  }\n",
       "</style><div class='table-result-container'><table class='table-result'><thead style='background-color: white'><tr><th>sentiment</th><th>tweet</th><th>tokens</th><th>filtered</th></tr></thead><tbody><tr><td>1</td><td>rt progintl breaking tomorrow amazon workers at warehouses are going on strike in france and germany to makeamazonpay with many ot</td><td>List(rt, progintl, breaking, tomorrow, amazon, workers, at, warehouses, are, going, on, strike, in, france, and, germany, to, makeamazonpay, with, many, ot)</td><td>List(rt, progintl, breaking, tomorrow, amazon, workers, warehouses, going, strike, france, germany, makeamazonpay, many, ot)</td></tr><tr><td>1</td><td>rt chiefelrond hours rt amp follow cryptocoincoach neblioteam be active on profile tweet nebl next gem on bla</td><td>List(rt, chiefelrond, hours, rt, amp, follow, cryptocoincoach, neblioteam, be, active, on, profile, tweet, nebl, next, gem, on, bla)</td><td>List(rt, chiefelrond, hours, rt, amp, follow, cryptocoincoach, neblioteam, active, profile, tweet, nebl, next, gem, bla)</td></tr><tr><td>1</td><td>this is the only black friday ad you need to see</td><td>List(this, is, the, only, black, friday, ad, you, need, to, see)</td><td>List(black, friday, ad, need, see)</td></tr><tr><td>1</td><td>rt jihanicorn idr hours rt amp follow cryptocoincoach neblioteam ____________________________ be active on</td><td>List(rt, jihanicorn, idr, hours, rt, amp, follow, cryptocoincoach, neblioteam, ____________________________, be, active, on)</td><td>List(rt, jihanicorn, idr, hours, rt, amp, follow, cryptocoincoach, neblioteam, ____________________________, active)</td></tr><tr><td>1</td><td>rt heiracrypto ends in hrs rt follow cryptocoincoach neblioteam be active on profile tweet nebl next gem</td><td>List(rt, heiracrypto, ends, in, hrs, rt, follow, cryptocoincoach, neblioteam, be, active, on, profile, tweet, nebl, next, gem)</td><td>List(rt, heiracrypto, ends, hrs, rt, follow, cryptocoincoach, neblioteam, active, profile, tweet, nebl, next, gem)</td></tr></tbody></table></div>"
      ]
     },
     "metadata": {
      "application/vnd.databricks.v1+output": {
       "addedWidgets": {},
       "aggData": [],
       "aggError": "",
       "aggOverflow": false,
       "aggSchema": [],
       "aggSeriesLimitReached": false,
       "aggType": "",
       "arguments": {},
       "columnCustomDisplayInfos": {},
       "data": [
        [
         1,
         "rt progintl breaking tomorrow amazon workers at warehouses are going on strike in france and germany to makeamazonpay with many ot",
         [
          "rt",
          "progintl",
          "breaking",
          "tomorrow",
          "amazon",
          "workers",
          "at",
          "warehouses",
          "are",
          "going",
          "on",
          "strike",
          "in",
          "france",
          "and",
          "germany",
          "to",
          "makeamazonpay",
          "with",
          "many",
          "ot"
         ],
         [
          "rt",
          "progintl",
          "breaking",
          "tomorrow",
          "amazon",
          "workers",
          "warehouses",
          "going",
          "strike",
          "france",
          "germany",
          "makeamazonpay",
          "many",
          "ot"
         ]
        ],
        [
         1,
         "rt chiefelrond hours rt amp follow cryptocoincoach neblioteam be active on profile tweet nebl next gem on bla",
         [
          "rt",
          "chiefelrond",
          "hours",
          "rt",
          "amp",
          "follow",
          "cryptocoincoach",
          "neblioteam",
          "be",
          "active",
          "on",
          "profile",
          "tweet",
          "nebl",
          "next",
          "gem",
          "on",
          "bla"
         ],
         [
          "rt",
          "chiefelrond",
          "hours",
          "rt",
          "amp",
          "follow",
          "cryptocoincoach",
          "neblioteam",
          "active",
          "profile",
          "tweet",
          "nebl",
          "next",
          "gem",
          "bla"
         ]
        ],
        [
         1,
         "this is the only black friday ad you need to see",
         [
          "this",
          "is",
          "the",
          "only",
          "black",
          "friday",
          "ad",
          "you",
          "need",
          "to",
          "see"
         ],
         [
          "black",
          "friday",
          "ad",
          "need",
          "see"
         ]
        ],
        [
         1,
         "rt jihanicorn idr hours rt amp follow cryptocoincoach neblioteam ____________________________ be active on",
         [
          "rt",
          "jihanicorn",
          "idr",
          "hours",
          "rt",
          "amp",
          "follow",
          "cryptocoincoach",
          "neblioteam",
          "____________________________",
          "be",
          "active",
          "on"
         ],
         [
          "rt",
          "jihanicorn",
          "idr",
          "hours",
          "rt",
          "amp",
          "follow",
          "cryptocoincoach",
          "neblioteam",
          "____________________________",
          "active"
         ]
        ],
        [
         1,
         "rt heiracrypto ends in hrs rt follow cryptocoincoach neblioteam be active on profile tweet nebl next gem",
         [
          "rt",
          "heiracrypto",
          "ends",
          "in",
          "hrs",
          "rt",
          "follow",
          "cryptocoincoach",
          "neblioteam",
          "be",
          "active",
          "on",
          "profile",
          "tweet",
          "nebl",
          "next",
          "gem"
         ],
         [
          "rt",
          "heiracrypto",
          "ends",
          "hrs",
          "rt",
          "follow",
          "cryptocoincoach",
          "neblioteam",
          "active",
          "profile",
          "tweet",
          "nebl",
          "next",
          "gem"
         ]
        ]
       ],
       "datasetInfos": [],
       "dbfsResultPath": null,
       "isJsonSchema": true,
       "metadata": {},
       "overflow": false,
       "plotOptions": {
        "customPlotOptions": {},
        "displayType": "table",
        "pivotAggregation": null,
        "pivotColumns": null,
        "xColumns": null,
        "yColumns": null
       },
       "removedWidgets": [],
       "schema": [
        {
         "metadata": "{}",
         "name": "sentiment",
         "type": "\"long\""
        },
        {
         "metadata": "{}",
         "name": "tweet",
         "type": "\"string\""
        },
        {
         "metadata": "{}",
         "name": "tokens",
         "type": "{\"type\":\"array\",\"elementType\":\"string\",\"containsNull\":true}"
        },
        {
         "metadata": "{}",
         "name": "filtered",
         "type": "{\"type\":\"array\",\"elementType\":\"string\",\"containsNull\":true}"
        }
       ],
       "type": "table"
      }
     },
     "output_type": "display_data"
    }
   ],
   "source": [
    "stopword_remover = StopWordsRemover(inputCol=\"tokens\", outputCol=\"filtered\")\n",
    "tweets_stopword = stopword_remover.transform(tweets_tokenized)\n",
    "\n",
    "display(tweets_stopword.head(5))"
   ]
  },
  {
   "cell_type": "markdown",
   "metadata": {
    "application/vnd.databricks.v1+cell": {
     "cellMetadata": {},
     "inputWidgets": {},
     "nuid": "99983c4c-4eba-4150-b280-8328397d0792",
     "showTitle": false,
     "title": ""
    }
   },
   "source": [
    "###Feature Transformer: CountVectorizer (TF - Term Frequency)"
   ]
  },
  {
   "cell_type": "code",
   "execution_count": 0,
   "metadata": {
    "application/vnd.databricks.v1+cell": {
     "cellMetadata": {
      "byteLimit": 2048000,
      "rowLimit": 10000
     },
     "inputWidgets": {},
     "nuid": "46b30a9e-b88c-4812-97e5-1f2b76ec49da",
     "showTitle": false,
     "title": ""
    }
   },
   "outputs": [
    {
     "data": {
      "text/html": [
       "<style scoped>\n",
       "  .table-result-container {\n",
       "    max-height: 300px;\n",
       "    overflow: auto;\n",
       "  }\n",
       "  table, th, td {\n",
       "    border: 1px solid black;\n",
       "    border-collapse: collapse;\n",
       "  }\n",
       "  th, td {\n",
       "    padding: 5px;\n",
       "  }\n",
       "  th {\n",
       "    text-align: left;\n",
       "  }\n",
       "</style><div class='table-result-container'><table class='table-result'><thead style='background-color: white'><tr><th>sentiment</th><th>tweet</th><th>tokens</th><th>filtered</th><th>cv</th></tr></thead><tbody><tr><td>1</td><td>rt progintl breaking tomorrow amazon workers at warehouses are going on strike in france and germany to makeamazonpay with many ot</td><td>List(rt, progintl, breaking, tomorrow, amazon, workers, at, warehouses, are, going, on, strike, in, france, and, germany, to, makeamazonpay, with, many, ot)</td><td>List(rt, progintl, breaking, tomorrow, amazon, workers, warehouses, going, strike, france, germany, makeamazonpay, many, ot)</td><td>Map(vectorType -> sparse, length -> 256, indices -> List(0, 20, 41, 57, 252), values -> List(1.0, 1.0, 1.0, 1.0, 1.0))</td></tr><tr><td>1</td><td>rt chiefelrond hours rt amp follow cryptocoincoach neblioteam be active on profile tweet nebl next gem on bla</td><td>List(rt, chiefelrond, hours, rt, amp, follow, cryptocoincoach, neblioteam, be, active, on, profile, tweet, nebl, next, gem, on, bla)</td><td>List(rt, chiefelrond, hours, rt, amp, follow, cryptocoincoach, neblioteam, active, profile, tweet, nebl, next, gem, bla)</td><td>Map(vectorType -> sparse, length -> 256, indices -> List(0, 3, 4, 5, 6, 7, 8, 9, 10, 11, 12, 13, 85, 88), values -> List(2.0, 1.0, 1.0, 1.0, 1.0, 1.0, 1.0, 1.0, 1.0, 1.0, 1.0, 1.0, 1.0, 1.0))</td></tr><tr><td>1</td><td>this is the only black friday ad you need to see</td><td>List(this, is, the, only, black, friday, ad, you, need, to, see)</td><td>List(black, friday, ad, need, see)</td><td>Map(vectorType -> sparse, length -> 256, indices -> List(1, 2, 129, 150), values -> List(1.0, 1.0, 1.0, 1.0))</td></tr><tr><td>1</td><td>rt jihanicorn idr hours rt amp follow cryptocoincoach neblioteam ____________________________ be active on</td><td>List(rt, jihanicorn, idr, hours, rt, amp, follow, cryptocoincoach, neblioteam, ____________________________, be, active, on)</td><td>List(rt, jihanicorn, idr, hours, rt, amp, follow, cryptocoincoach, neblioteam, ____________________________, active)</td><td>Map(vectorType -> sparse, length -> 256, indices -> List(0, 3, 5, 6, 7, 9, 10, 71, 72, 73), values -> List(2.0, 1.0, 1.0, 1.0, 1.0, 1.0, 1.0, 1.0, 1.0, 1.0))</td></tr><tr><td>1</td><td>rt heiracrypto ends in hrs rt follow cryptocoincoach neblioteam be active on profile tweet nebl next gem</td><td>List(rt, heiracrypto, ends, in, hrs, rt, follow, cryptocoincoach, neblioteam, be, active, on, profile, tweet, nebl, next, gem)</td><td>List(rt, heiracrypto, ends, hrs, rt, follow, cryptocoincoach, neblioteam, active, profile, tweet, nebl, next, gem)</td><td>Map(vectorType -> sparse, length -> 256, indices -> List(0, 3, 4, 5, 6, 7, 8, 11, 12, 13, 36, 45, 48), values -> List(2.0, 1.0, 1.0, 1.0, 1.0, 1.0, 1.0, 1.0, 1.0, 1.0, 1.0, 1.0, 1.0))</td></tr></tbody></table></div>"
      ]
     },
     "metadata": {
      "application/vnd.databricks.v1+output": {
       "addedWidgets": {},
       "aggData": [],
       "aggError": "",
       "aggOverflow": false,
       "aggSchema": [],
       "aggSeriesLimitReached": false,
       "aggType": "",
       "arguments": {},
       "columnCustomDisplayInfos": {},
       "data": [
        [
         1,
         "rt progintl breaking tomorrow amazon workers at warehouses are going on strike in france and germany to makeamazonpay with many ot",
         [
          "rt",
          "progintl",
          "breaking",
          "tomorrow",
          "amazon",
          "workers",
          "at",
          "warehouses",
          "are",
          "going",
          "on",
          "strike",
          "in",
          "france",
          "and",
          "germany",
          "to",
          "makeamazonpay",
          "with",
          "many",
          "ot"
         ],
         [
          "rt",
          "progintl",
          "breaking",
          "tomorrow",
          "amazon",
          "workers",
          "warehouses",
          "going",
          "strike",
          "france",
          "germany",
          "makeamazonpay",
          "many",
          "ot"
         ],
         {
          "indices": [
           0,
           20,
           41,
           57,
           252
          ],
          "length": 256,
          "values": [
           1,
           1,
           1,
           1,
           1
          ],
          "vectorType": "sparse"
         }
        ],
        [
         1,
         "rt chiefelrond hours rt amp follow cryptocoincoach neblioteam be active on profile tweet nebl next gem on bla",
         [
          "rt",
          "chiefelrond",
          "hours",
          "rt",
          "amp",
          "follow",
          "cryptocoincoach",
          "neblioteam",
          "be",
          "active",
          "on",
          "profile",
          "tweet",
          "nebl",
          "next",
          "gem",
          "on",
          "bla"
         ],
         [
          "rt",
          "chiefelrond",
          "hours",
          "rt",
          "amp",
          "follow",
          "cryptocoincoach",
          "neblioteam",
          "active",
          "profile",
          "tweet",
          "nebl",
          "next",
          "gem",
          "bla"
         ],
         {
          "indices": [
           0,
           3,
           4,
           5,
           6,
           7,
           8,
           9,
           10,
           11,
           12,
           13,
           85,
           88
          ],
          "length": 256,
          "values": [
           2,
           1,
           1,
           1,
           1,
           1,
           1,
           1,
           1,
           1,
           1,
           1,
           1,
           1
          ],
          "vectorType": "sparse"
         }
        ],
        [
         1,
         "this is the only black friday ad you need to see",
         [
          "this",
          "is",
          "the",
          "only",
          "black",
          "friday",
          "ad",
          "you",
          "need",
          "to",
          "see"
         ],
         [
          "black",
          "friday",
          "ad",
          "need",
          "see"
         ],
         {
          "indices": [
           1,
           2,
           129,
           150
          ],
          "length": 256,
          "values": [
           1,
           1,
           1,
           1
          ],
          "vectorType": "sparse"
         }
        ],
        [
         1,
         "rt jihanicorn idr hours rt amp follow cryptocoincoach neblioteam ____________________________ be active on",
         [
          "rt",
          "jihanicorn",
          "idr",
          "hours",
          "rt",
          "amp",
          "follow",
          "cryptocoincoach",
          "neblioteam",
          "____________________________",
          "be",
          "active",
          "on"
         ],
         [
          "rt",
          "jihanicorn",
          "idr",
          "hours",
          "rt",
          "amp",
          "follow",
          "cryptocoincoach",
          "neblioteam",
          "____________________________",
          "active"
         ],
         {
          "indices": [
           0,
           3,
           5,
           6,
           7,
           9,
           10,
           71,
           72,
           73
          ],
          "length": 256,
          "values": [
           2,
           1,
           1,
           1,
           1,
           1,
           1,
           1,
           1,
           1
          ],
          "vectorType": "sparse"
         }
        ],
        [
         1,
         "rt heiracrypto ends in hrs rt follow cryptocoincoach neblioteam be active on profile tweet nebl next gem",
         [
          "rt",
          "heiracrypto",
          "ends",
          "in",
          "hrs",
          "rt",
          "follow",
          "cryptocoincoach",
          "neblioteam",
          "be",
          "active",
          "on",
          "profile",
          "tweet",
          "nebl",
          "next",
          "gem"
         ],
         [
          "rt",
          "heiracrypto",
          "ends",
          "hrs",
          "rt",
          "follow",
          "cryptocoincoach",
          "neblioteam",
          "active",
          "profile",
          "tweet",
          "nebl",
          "next",
          "gem"
         ],
         {
          "indices": [
           0,
           3,
           4,
           5,
           6,
           7,
           8,
           11,
           12,
           13,
           36,
           45,
           48
          ],
          "length": 256,
          "values": [
           2,
           1,
           1,
           1,
           1,
           1,
           1,
           1,
           1,
           1,
           1,
           1,
           1
          ],
          "vectorType": "sparse"
         }
        ]
       ],
       "datasetInfos": [],
       "dbfsResultPath": null,
       "isJsonSchema": true,
       "metadata": {},
       "overflow": false,
       "plotOptions": {
        "customPlotOptions": {},
        "displayType": "table",
        "pivotAggregation": null,
        "pivotColumns": null,
        "xColumns": null,
        "yColumns": null
       },
       "removedWidgets": [],
       "schema": [
        {
         "metadata": "{}",
         "name": "sentiment",
         "type": "\"long\""
        },
        {
         "metadata": "{}",
         "name": "tweet",
         "type": "\"string\""
        },
        {
         "metadata": "{}",
         "name": "tokens",
         "type": "{\"type\":\"array\",\"elementType\":\"string\",\"containsNull\":true}"
        },
        {
         "metadata": "{}",
         "name": "filtered",
         "type": "{\"type\":\"array\",\"elementType\":\"string\",\"containsNull\":true}"
        },
        {
         "metadata": "{}",
         "name": "cv",
         "type": "{\"type\":\"udt\",\"class\":\"org.apache.spark.ml.linalg.VectorUDT\",\"pyClass\":\"pyspark.ml.linalg.VectorUDT\",\"sqlType\":{\"type\":\"struct\",\"fields\":[{\"name\":\"type\",\"type\":\"byte\",\"nullable\":false,\"metadata\":{}},{\"name\":\"size\",\"type\":\"integer\",\"nullable\":true,\"metadata\":{}},{\"name\":\"indices\",\"type\":{\"type\":\"array\",\"elementType\":\"integer\",\"containsNull\":false},\"nullable\":true,\"metadata\":{}},{\"name\":\"values\",\"type\":{\"type\":\"array\",\"elementType\":\"double\",\"containsNull\":false},\"nullable\":true,\"metadata\":{}}]}}"
        }
       ],
       "type": "table"
      }
     },
     "output_type": "display_data"
    }
   ],
   "source": [
    "# Apply count vectorizer\n",
    "cv = CountVectorizer(vocabSize=2**8, inputCol=\"filtered\", outputCol='cv')\n",
    "cv_model = cv.fit(tweets_stopword)\n",
    "tweets_cv = cv_model.transform(tweets_stopword)\n",
    "\n",
    "display(tweets_cv.head(5))"
   ]
  },
  {
   "cell_type": "markdown",
   "metadata": {
    "application/vnd.databricks.v1+cell": {
     "cellMetadata": {},
     "inputWidgets": {},
     "nuid": "d13e7166-e282-4b48-b73d-597d246016f7",
     "showTitle": false,
     "title": ""
    }
   },
   "source": [
    "###Feature Transformer: TF-IDF Vectorization"
   ]
  },
  {
   "cell_type": "code",
   "execution_count": 0,
   "metadata": {
    "application/vnd.databricks.v1+cell": {
     "cellMetadata": {
      "byteLimit": 2048000,
      "rowLimit": 10000
     },
     "inputWidgets": {},
     "nuid": "4f31032c-dfec-4170-8dc2-54439dc4576b",
     "showTitle": false,
     "title": ""
    }
   },
   "outputs": [
    {
     "data": {
      "text/html": [
       "<style scoped>\n",
       "  .table-result-container {\n",
       "    max-height: 300px;\n",
       "    overflow: auto;\n",
       "  }\n",
       "  table, th, td {\n",
       "    border: 1px solid black;\n",
       "    border-collapse: collapse;\n",
       "  }\n",
       "  th, td {\n",
       "    padding: 5px;\n",
       "  }\n",
       "  th {\n",
       "    text-align: left;\n",
       "  }\n",
       "</style><div class='table-result-container'><table class='table-result'><thead style='background-color: white'><tr><th>sentiment</th><th>tweet</th><th>tokens</th><th>filtered</th><th>cv</th><th>features</th></tr></thead><tbody><tr><td>1</td><td>rt progintl breaking tomorrow amazon workers at warehouses are going on strike in france and germany to makeamazonpay with many ot</td><td>List(rt, progintl, breaking, tomorrow, amazon, workers, at, warehouses, are, going, on, strike, in, france, and, germany, to, makeamazonpay, with, many, ot)</td><td>List(rt, progintl, breaking, tomorrow, amazon, workers, warehouses, going, strike, france, germany, makeamazonpay, many, ot)</td><td>Map(vectorType -> sparse, length -> 256, indices -> List(0, 20, 41, 57, 252), values -> List(1.0, 1.0, 1.0, 1.0, 1.0))</td><td>Map(vectorType -> sparse, length -> 256, indices -> List(0, 20, 41, 57, 252), values -> List(0.3676543272010515, 3.1175924090018903, 3.5883125702634744, 3.9732819270253423, 5.352113566943643))</td></tr><tr><td>1</td><td>rt chiefelrond hours rt amp follow cryptocoincoach neblioteam be active on profile tweet nebl next gem on bla</td><td>List(rt, chiefelrond, hours, rt, amp, follow, cryptocoincoach, neblioteam, be, active, on, profile, tweet, nebl, next, gem, on, bla)</td><td>List(rt, chiefelrond, hours, rt, amp, follow, cryptocoincoach, neblioteam, active, profile, tweet, nebl, next, gem, bla)</td><td>Map(vectorType -> sparse, length -> 256, indices -> List(0, 3, 4, 5, 6, 7, 8, 9, 10, 11, 12, 13, 85, 88), values -> List(2.0, 1.0, 1.0, 1.0, 1.0, 1.0, 1.0, 1.0, 1.0, 1.0, 1.0, 1.0, 1.0, 1.0))</td><td>Map(vectorType -> sparse, length -> 256, indices -> List(0, 3, 4, 5, 6, 7, 8, 9, 10, 11, 12, 13, 85, 88), values -> List(0.735308654402103, 1.3188603556373257, 1.3732660863895567, 1.5056109771931794, 1.5058888597300504, 1.5203253570295348, 1.540835557564483, 1.5713939547037072, 1.5846222252600537, 1.6124985947883086, 1.6561496019170256, 1.6958706016840448, 4.103608188700917, 4.185831048958749))</td></tr><tr><td>1</td><td>this is the only black friday ad you need to see</td><td>List(this, is, the, only, black, friday, ad, you, need, to, see)</td><td>List(black, friday, ad, need, see)</td><td>Map(vectorType -> sparse, length -> 256, indices -> List(1, 2, 129, 150), values -> List(1.0, 1.0, 1.0, 1.0))</td><td>Map(vectorType -> sparse, length -> 256, indices -> List(1, 2, 129, 150), values -> List(0.4434163164512347, 0.46447935985153693, 4.599435736889472, 4.7272293066122515))</td></tr><tr><td>1</td><td>rt jihanicorn idr hours rt amp follow cryptocoincoach neblioteam ____________________________ be active on</td><td>List(rt, jihanicorn, idr, hours, rt, amp, follow, cryptocoincoach, neblioteam, ____________________________, be, active, on)</td><td>List(rt, jihanicorn, idr, hours, rt, amp, follow, cryptocoincoach, neblioteam, ____________________________, active)</td><td>Map(vectorType -> sparse, length -> 256, indices -> List(0, 3, 5, 6, 7, 9, 10, 71, 72, 73), values -> List(2.0, 1.0, 1.0, 1.0, 1.0, 1.0, 1.0, 1.0, 1.0, 1.0))</td><td>Map(vectorType -> sparse, length -> 256, indices -> List(0, 3, 5, 6, 7, 9, 10, 71, 72, 73), values -> List(0.735308654402103, 1.3188603556373257, 1.5056109771931794, 1.5058888597300504, 1.5203253570295348, 1.5713939547037072, 1.5846222252600537, 3.987426434411507, 3.9979277242321705, 3.9984076858444557))</td></tr><tr><td>1</td><td>rt heiracrypto ends in hrs rt follow cryptocoincoach neblioteam be active on profile tweet nebl next gem</td><td>List(rt, heiracrypto, ends, in, hrs, rt, follow, cryptocoincoach, neblioteam, be, active, on, profile, tweet, nebl, next, gem)</td><td>List(rt, heiracrypto, ends, hrs, rt, follow, cryptocoincoach, neblioteam, active, profile, tweet, nebl, next, gem)</td><td>Map(vectorType -> sparse, length -> 256, indices -> List(0, 3, 4, 5, 6, 7, 8, 11, 12, 13, 36, 45, 48), values -> List(2.0, 1.0, 1.0, 1.0, 1.0, 1.0, 1.0, 1.0, 1.0, 1.0, 1.0, 1.0, 1.0))</td><td>Map(vectorType -> sparse, length -> 256, indices -> List(0, 3, 4, 5, 6, 7, 8, 11, 12, 13, 36, 45, 48), values -> List(0.735308654402103, 1.3188603556373257, 1.3732660863895567, 1.5056109771931794, 1.5058888597300504, 1.5203253570295348, 1.540835557564483, 1.6124985947883086, 1.6561496019170256, 1.6958706016840448, 3.449340446201889, 3.61609213437055, 3.6466897990038367))</td></tr></tbody></table></div>"
      ]
     },
     "metadata": {
      "application/vnd.databricks.v1+output": {
       "addedWidgets": {},
       "aggData": [],
       "aggError": "",
       "aggOverflow": false,
       "aggSchema": [],
       "aggSeriesLimitReached": false,
       "aggType": "",
       "arguments": {},
       "columnCustomDisplayInfos": {},
       "data": [
        [
         1,
         "rt progintl breaking tomorrow amazon workers at warehouses are going on strike in france and germany to makeamazonpay with many ot",
         [
          "rt",
          "progintl",
          "breaking",
          "tomorrow",
          "amazon",
          "workers",
          "at",
          "warehouses",
          "are",
          "going",
          "on",
          "strike",
          "in",
          "france",
          "and",
          "germany",
          "to",
          "makeamazonpay",
          "with",
          "many",
          "ot"
         ],
         [
          "rt",
          "progintl",
          "breaking",
          "tomorrow",
          "amazon",
          "workers",
          "warehouses",
          "going",
          "strike",
          "france",
          "germany",
          "makeamazonpay",
          "many",
          "ot"
         ],
         {
          "indices": [
           0,
           20,
           41,
           57,
           252
          ],
          "length": 256,
          "values": [
           1,
           1,
           1,
           1,
           1
          ],
          "vectorType": "sparse"
         },
         {
          "indices": [
           0,
           20,
           41,
           57,
           252
          ],
          "length": 256,
          "values": [
           0.3676543272010515,
           3.1175924090018903,
           3.5883125702634744,
           3.9732819270253423,
           5.352113566943643
          ],
          "vectorType": "sparse"
         }
        ],
        [
         1,
         "rt chiefelrond hours rt amp follow cryptocoincoach neblioteam be active on profile tweet nebl next gem on bla",
         [
          "rt",
          "chiefelrond",
          "hours",
          "rt",
          "amp",
          "follow",
          "cryptocoincoach",
          "neblioteam",
          "be",
          "active",
          "on",
          "profile",
          "tweet",
          "nebl",
          "next",
          "gem",
          "on",
          "bla"
         ],
         [
          "rt",
          "chiefelrond",
          "hours",
          "rt",
          "amp",
          "follow",
          "cryptocoincoach",
          "neblioteam",
          "active",
          "profile",
          "tweet",
          "nebl",
          "next",
          "gem",
          "bla"
         ],
         {
          "indices": [
           0,
           3,
           4,
           5,
           6,
           7,
           8,
           9,
           10,
           11,
           12,
           13,
           85,
           88
          ],
          "length": 256,
          "values": [
           2,
           1,
           1,
           1,
           1,
           1,
           1,
           1,
           1,
           1,
           1,
           1,
           1,
           1
          ],
          "vectorType": "sparse"
         },
         {
          "indices": [
           0,
           3,
           4,
           5,
           6,
           7,
           8,
           9,
           10,
           11,
           12,
           13,
           85,
           88
          ],
          "length": 256,
          "values": [
           0.735308654402103,
           1.3188603556373257,
           1.3732660863895567,
           1.5056109771931794,
           1.5058888597300504,
           1.5203253570295348,
           1.540835557564483,
           1.5713939547037072,
           1.5846222252600537,
           1.6124985947883086,
           1.6561496019170256,
           1.6958706016840448,
           4.103608188700917,
           4.185831048958749
          ],
          "vectorType": "sparse"
         }
        ],
        [
         1,
         "this is the only black friday ad you need to see",
         [
          "this",
          "is",
          "the",
          "only",
          "black",
          "friday",
          "ad",
          "you",
          "need",
          "to",
          "see"
         ],
         [
          "black",
          "friday",
          "ad",
          "need",
          "see"
         ],
         {
          "indices": [
           1,
           2,
           129,
           150
          ],
          "length": 256,
          "values": [
           1,
           1,
           1,
           1
          ],
          "vectorType": "sparse"
         },
         {
          "indices": [
           1,
           2,
           129,
           150
          ],
          "length": 256,
          "values": [
           0.4434163164512347,
           0.46447935985153693,
           4.599435736889472,
           4.7272293066122515
          ],
          "vectorType": "sparse"
         }
        ],
        [
         1,
         "rt jihanicorn idr hours rt amp follow cryptocoincoach neblioteam ____________________________ be active on",
         [
          "rt",
          "jihanicorn",
          "idr",
          "hours",
          "rt",
          "amp",
          "follow",
          "cryptocoincoach",
          "neblioteam",
          "____________________________",
          "be",
          "active",
          "on"
         ],
         [
          "rt",
          "jihanicorn",
          "idr",
          "hours",
          "rt",
          "amp",
          "follow",
          "cryptocoincoach",
          "neblioteam",
          "____________________________",
          "active"
         ],
         {
          "indices": [
           0,
           3,
           5,
           6,
           7,
           9,
           10,
           71,
           72,
           73
          ],
          "length": 256,
          "values": [
           2,
           1,
           1,
           1,
           1,
           1,
           1,
           1,
           1,
           1
          ],
          "vectorType": "sparse"
         },
         {
          "indices": [
           0,
           3,
           5,
           6,
           7,
           9,
           10,
           71,
           72,
           73
          ],
          "length": 256,
          "values": [
           0.735308654402103,
           1.3188603556373257,
           1.5056109771931794,
           1.5058888597300504,
           1.5203253570295348,
           1.5713939547037072,
           1.5846222252600537,
           3.987426434411507,
           3.9979277242321705,
           3.9984076858444557
          ],
          "vectorType": "sparse"
         }
        ],
        [
         1,
         "rt heiracrypto ends in hrs rt follow cryptocoincoach neblioteam be active on profile tweet nebl next gem",
         [
          "rt",
          "heiracrypto",
          "ends",
          "in",
          "hrs",
          "rt",
          "follow",
          "cryptocoincoach",
          "neblioteam",
          "be",
          "active",
          "on",
          "profile",
          "tweet",
          "nebl",
          "next",
          "gem"
         ],
         [
          "rt",
          "heiracrypto",
          "ends",
          "hrs",
          "rt",
          "follow",
          "cryptocoincoach",
          "neblioteam",
          "active",
          "profile",
          "tweet",
          "nebl",
          "next",
          "gem"
         ],
         {
          "indices": [
           0,
           3,
           4,
           5,
           6,
           7,
           8,
           11,
           12,
           13,
           36,
           45,
           48
          ],
          "length": 256,
          "values": [
           2,
           1,
           1,
           1,
           1,
           1,
           1,
           1,
           1,
           1,
           1,
           1,
           1
          ],
          "vectorType": "sparse"
         },
         {
          "indices": [
           0,
           3,
           4,
           5,
           6,
           7,
           8,
           11,
           12,
           13,
           36,
           45,
           48
          ],
          "length": 256,
          "values": [
           0.735308654402103,
           1.3188603556373257,
           1.3732660863895567,
           1.5056109771931794,
           1.5058888597300504,
           1.5203253570295348,
           1.540835557564483,
           1.6124985947883086,
           1.6561496019170256,
           1.6958706016840448,
           3.449340446201889,
           3.61609213437055,
           3.6466897990038367
          ],
          "vectorType": "sparse"
         }
        ]
       ],
       "datasetInfos": [],
       "dbfsResultPath": null,
       "isJsonSchema": true,
       "metadata": {},
       "overflow": false,
       "plotOptions": {
        "customPlotOptions": {},
        "displayType": "table",
        "pivotAggregation": null,
        "pivotColumns": null,
        "xColumns": null,
        "yColumns": null
       },
       "removedWidgets": [],
       "schema": [
        {
         "metadata": "{}",
         "name": "sentiment",
         "type": "\"long\""
        },
        {
         "metadata": "{}",
         "name": "tweet",
         "type": "\"string\""
        },
        {
         "metadata": "{}",
         "name": "tokens",
         "type": "{\"type\":\"array\",\"elementType\":\"string\",\"containsNull\":true}"
        },
        {
         "metadata": "{}",
         "name": "filtered",
         "type": "{\"type\":\"array\",\"elementType\":\"string\",\"containsNull\":true}"
        },
        {
         "metadata": "{}",
         "name": "cv",
         "type": "{\"type\":\"udt\",\"class\":\"org.apache.spark.ml.linalg.VectorUDT\",\"pyClass\":\"pyspark.ml.linalg.VectorUDT\",\"sqlType\":{\"type\":\"struct\",\"fields\":[{\"name\":\"type\",\"type\":\"byte\",\"nullable\":false,\"metadata\":{}},{\"name\":\"size\",\"type\":\"integer\",\"nullable\":true,\"metadata\":{}},{\"name\":\"indices\",\"type\":{\"type\":\"array\",\"elementType\":\"integer\",\"containsNull\":false},\"nullable\":true,\"metadata\":{}},{\"name\":\"values\",\"type\":{\"type\":\"array\",\"elementType\":\"double\",\"containsNull\":false},\"nullable\":true,\"metadata\":{}}]}}"
        },
        {
         "metadata": "{}",
         "name": "features",
         "type": "{\"type\":\"udt\",\"class\":\"org.apache.spark.ml.linalg.VectorUDT\",\"pyClass\":\"pyspark.ml.linalg.VectorUDT\",\"sqlType\":{\"type\":\"struct\",\"fields\":[{\"name\":\"type\",\"type\":\"byte\",\"nullable\":false,\"metadata\":{}},{\"name\":\"size\",\"type\":\"integer\",\"nullable\":true,\"metadata\":{}},{\"name\":\"indices\",\"type\":{\"type\":\"array\",\"elementType\":\"integer\",\"containsNull\":false},\"nullable\":true,\"metadata\":{}},{\"name\":\"values\",\"type\":{\"type\":\"array\",\"elementType\":\"double\",\"containsNull\":false},\"nullable\":true,\"metadata\":{}}]}}"
        }
       ],
       "type": "table"
      }
     },
     "output_type": "display_data"
    }
   ],
   "source": [
    "# TF-IDF Vectorization\n",
    "idf = IDF(inputCol='cv', outputCol=\"features\", minDocFreq=5) \n",
    "idf_model = idf.fit(tweets_cv)\n",
    "tweets_idf = idf_model.transform(tweets_cv)\n",
    "\n",
    "display(tweets_idf.head(5)) # The dataframe is now ready for the following machine learning stage."
   ]
  },
  {
   "cell_type": "code",
   "execution_count": 0,
   "metadata": {
    "application/vnd.databricks.v1+cell": {
     "cellMetadata": {
      "byteLimit": 2048000,
      "rowLimit": 10000
     },
     "inputWidgets": {},
     "nuid": "de34d0ab-cab7-4e3a-b1c8-d302382e1f57",
     "showTitle": false,
     "title": ""
    }
   },
   "outputs": [],
   "source": [
    "# rename column 'sentiment' to 'label'\n",
    "tweets_idf = tweets_idf.withColumnRenamed(\"sentiment\", \"label\")"
   ]
  },
  {
   "cell_type": "markdown",
   "metadata": {
    "application/vnd.databricks.v1+cell": {
     "cellMetadata": {},
     "inputWidgets": {},
     "nuid": "75717c8b-19c0-438d-b278-25660d1af238",
     "showTitle": false,
     "title": ""
    }
   },
   "source": [
    "#### Model Training: Logistic Regression"
   ]
  },
  {
   "cell_type": "code",
   "execution_count": 0,
   "metadata": {
    "application/vnd.databricks.v1+cell": {
     "cellMetadata": {
      "byteLimit": 2048000,
      "rowLimit": 10000
     },
     "inputWidgets": {},
     "nuid": "2023ec7d-6850-431f-9c70-be20b0fc8ee8",
     "showTitle": false,
     "title": ""
    }
   },
   "outputs": [
    {
     "data": {
      "text/html": [
       "<style scoped>\n",
       "  .table-result-container {\n",
       "    max-height: 300px;\n",
       "    overflow: auto;\n",
       "  }\n",
       "  table, th, td {\n",
       "    border: 1px solid black;\n",
       "    border-collapse: collapse;\n",
       "  }\n",
       "  th, td {\n",
       "    padding: 5px;\n",
       "  }\n",
       "  th {\n",
       "    text-align: left;\n",
       "  }\n",
       "</style><div class='table-result-container'><table class='table-result'><thead style='background-color: white'><tr><th>label</th><th>tweet</th><th>tokens</th><th>filtered</th><th>cv</th><th>features</th><th>rawPrediction</th><th>probability</th><th>prediction</th></tr></thead><tbody><tr><td>0</td><td>a distraction from shopping in the black friday sales an epic thread combines gynaecological anatomy with vague</td><td>List(a, distraction, from, shopping, in, the, black, friday, sales, an, epic, thread, combines, gynaecological, anatomy, with, vague)</td><td>List(distraction, shopping, black, friday, sales, epic, thread, combines, gynaecological, anatomy, vague)</td><td>Map(vectorType -> sparse, length -> 256, indices -> List(1, 2, 32, 64, 97, 246), values -> List(1.0, 1.0, 1.0, 1.0, 1.0, 1.0))</td><td>Map(vectorType -> sparse, length -> 256, indices -> List(1, 2, 32, 64, 97, 246), values -> List(0.4434163164512347, 0.46447935985153693, 3.4413326718080586, 3.8492760959306898, 4.286249796705796, 5.313822653950329))</td><td>Map(vectorType -> dense, length -> 2, values -> List(-2.287427416704114, 2.287427416704114))</td><td>Map(vectorType -> dense, length -> 2, values -> List(0.09216958344256845, 0.9078304165574316))</td><td>1.0</td></tr><tr><td>0</td><td>a dizzy nendroid man</td><td>List(a, dizzy, nendroid, man)</td><td>List(dizzy, nendroid, man)</td><td>Map(vectorType -> sparse, length -> 256, indices -> List(), values -> List())</td><td>Map(vectorType -> sparse, length -> 256, indices -> List(), values -> List())</td><td>Map(vectorType -> dense, length -> 2, values -> List(-1.4900190958821828, 1.4900190958821828))</td><td>Map(vectorType -> dense, length -> 2, values -> List(0.18391886124942677, 0.8160811387505732))</td><td>1.0</td></tr><tr><td>0</td><td>adorepixsxoxo give me my black friday shopping allowance im going crazy this year findom findomme fins</td><td>List(adorepixsxoxo, give, me, my, black, friday, shopping, allowance, im, going, crazy, this, year, findom, findomme, fins)</td><td>List(adorepixsxoxo, give, black, friday, shopping, allowance, im, going, crazy, year, findom, findomme, fins)</td><td>Map(vectorType -> sparse, length -> 256, indices -> List(1, 2, 41, 64, 78, 108, 114), values -> List(1.0, 1.0, 1.0, 1.0, 1.0, 1.0, 1.0))</td><td>Map(vectorType -> sparse, length -> 256, indices -> List(1, 2, 41, 64, 78, 108, 114), values -> List(0.4434163164512347, 0.46447935985153693, 3.5883125702634744, 3.8492760959306898, 4.052661621082812, 4.381559976510121, 4.4924128559159735))</td><td>Map(vectorType -> dense, length -> 2, values -> List(0.9977199585861443, -0.9977199585861443))</td><td>Map(vectorType -> dense, length -> 2, values -> List(0.7306100591836439, 0.26938994081635614))</td><td>0.0</td></tr><tr><td>0</td><td>amazon workers across the world plan black friday strike to demand the tech giant pays fairly and ceases awful un</td><td>List(amazon, workers, across, the, world, plan, black, friday, strike, to, demand, the, tech, giant, pays, fairly, and, ceases, awful, un)</td><td>List(amazon, workers, across, world, plan, black, friday, strike, demand, tech, giant, pays, fairly, ceases, awful, un)</td><td>Map(vectorType -> sparse, length -> 256, indices -> List(1, 2, 57), values -> List(1.0, 1.0, 1.0))</td><td>Map(vectorType -> sparse, length -> 256, indices -> List(1, 2, 57), values -> List(0.4434163164512347, 0.46447935985153693, 3.9732819270253423))</td><td>Map(vectorType -> dense, length -> 2, values -> List(-0.9016749126855091, 0.9016749126855091))</td><td>Map(vectorType -> dense, length -> 2, values -> List(0.2887064239524982, 0.7112935760475019))</td><td>1.0</td></tr><tr><td>0</td><td>another bullshit from wbd firedavidzaslav</td><td>List(another, bullshit, from, wbd, firedavidzaslav)</td><td>List(another, bullshit, wbd, firedavidzaslav)</td><td>Map(vectorType -> sparse, length -> 256, indices -> List(), values -> List())</td><td>Map(vectorType -> sparse, length -> 256, indices -> List(), values -> List())</td><td>Map(vectorType -> dense, length -> 2, values -> List(-1.4900190958821828, 1.4900190958821828))</td><td>Map(vectorType -> dense, length -> 2, values -> List(0.18391886124942677, 0.8160811387505732))</td><td>1.0</td></tr></tbody></table></div>"
      ]
     },
     "metadata": {
      "application/vnd.databricks.v1+output": {
       "addedWidgets": {},
       "aggData": [],
       "aggError": "",
       "aggOverflow": false,
       "aggSchema": [],
       "aggSeriesLimitReached": false,
       "aggType": "",
       "arguments": {},
       "columnCustomDisplayInfos": {},
       "data": [
        [
         0,
         "a distraction from shopping in the black friday sales an epic thread combines gynaecological anatomy with vague",
         [
          "a",
          "distraction",
          "from",
          "shopping",
          "in",
          "the",
          "black",
          "friday",
          "sales",
          "an",
          "epic",
          "thread",
          "combines",
          "gynaecological",
          "anatomy",
          "with",
          "vague"
         ],
         [
          "distraction",
          "shopping",
          "black",
          "friday",
          "sales",
          "epic",
          "thread",
          "combines",
          "gynaecological",
          "anatomy",
          "vague"
         ],
         {
          "indices": [
           1,
           2,
           32,
           64,
           97,
           246
          ],
          "length": 256,
          "values": [
           1,
           1,
           1,
           1,
           1,
           1
          ],
          "vectorType": "sparse"
         },
         {
          "indices": [
           1,
           2,
           32,
           64,
           97,
           246
          ],
          "length": 256,
          "values": [
           0.4434163164512347,
           0.46447935985153693,
           3.4413326718080586,
           3.8492760959306898,
           4.286249796705796,
           5.313822653950329
          ],
          "vectorType": "sparse"
         },
         {
          "length": 2,
          "values": [
           -2.287427416704114,
           2.287427416704114
          ],
          "vectorType": "dense"
         },
         {
          "length": 2,
          "values": [
           0.09216958344256845,
           0.9078304165574316
          ],
          "vectorType": "dense"
         },
         1
        ],
        [
         0,
         "a dizzy nendroid man",
         [
          "a",
          "dizzy",
          "nendroid",
          "man"
         ],
         [
          "dizzy",
          "nendroid",
          "man"
         ],
         {
          "indices": [],
          "length": 256,
          "values": [],
          "vectorType": "sparse"
         },
         {
          "indices": [],
          "length": 256,
          "values": [],
          "vectorType": "sparse"
         },
         {
          "length": 2,
          "values": [
           -1.4900190958821828,
           1.4900190958821828
          ],
          "vectorType": "dense"
         },
         {
          "length": 2,
          "values": [
           0.18391886124942677,
           0.8160811387505732
          ],
          "vectorType": "dense"
         },
         1
        ],
        [
         0,
         "adorepixsxoxo give me my black friday shopping allowance im going crazy this year findom findomme fins",
         [
          "adorepixsxoxo",
          "give",
          "me",
          "my",
          "black",
          "friday",
          "shopping",
          "allowance",
          "im",
          "going",
          "crazy",
          "this",
          "year",
          "findom",
          "findomme",
          "fins"
         ],
         [
          "adorepixsxoxo",
          "give",
          "black",
          "friday",
          "shopping",
          "allowance",
          "im",
          "going",
          "crazy",
          "year",
          "findom",
          "findomme",
          "fins"
         ],
         {
          "indices": [
           1,
           2,
           41,
           64,
           78,
           108,
           114
          ],
          "length": 256,
          "values": [
           1,
           1,
           1,
           1,
           1,
           1,
           1
          ],
          "vectorType": "sparse"
         },
         {
          "indices": [
           1,
           2,
           41,
           64,
           78,
           108,
           114
          ],
          "length": 256,
          "values": [
           0.4434163164512347,
           0.46447935985153693,
           3.5883125702634744,
           3.8492760959306898,
           4.052661621082812,
           4.381559976510121,
           4.4924128559159735
          ],
          "vectorType": "sparse"
         },
         {
          "length": 2,
          "values": [
           0.9977199585861443,
           -0.9977199585861443
          ],
          "vectorType": "dense"
         },
         {
          "length": 2,
          "values": [
           0.7306100591836439,
           0.26938994081635614
          ],
          "vectorType": "dense"
         },
         0
        ],
        [
         0,
         "amazon workers across the world plan black friday strike to demand the tech giant pays fairly and ceases awful un",
         [
          "amazon",
          "workers",
          "across",
          "the",
          "world",
          "plan",
          "black",
          "friday",
          "strike",
          "to",
          "demand",
          "the",
          "tech",
          "giant",
          "pays",
          "fairly",
          "and",
          "ceases",
          "awful",
          "un"
         ],
         [
          "amazon",
          "workers",
          "across",
          "world",
          "plan",
          "black",
          "friday",
          "strike",
          "demand",
          "tech",
          "giant",
          "pays",
          "fairly",
          "ceases",
          "awful",
          "un"
         ],
         {
          "indices": [
           1,
           2,
           57
          ],
          "length": 256,
          "values": [
           1,
           1,
           1
          ],
          "vectorType": "sparse"
         },
         {
          "indices": [
           1,
           2,
           57
          ],
          "length": 256,
          "values": [
           0.4434163164512347,
           0.46447935985153693,
           3.9732819270253423
          ],
          "vectorType": "sparse"
         },
         {
          "length": 2,
          "values": [
           -0.9016749126855091,
           0.9016749126855091
          ],
          "vectorType": "dense"
         },
         {
          "length": 2,
          "values": [
           0.2887064239524982,
           0.7112935760475019
          ],
          "vectorType": "dense"
         },
         1
        ],
        [
         0,
         "another bullshit from wbd firedavidzaslav",
         [
          "another",
          "bullshit",
          "from",
          "wbd",
          "firedavidzaslav"
         ],
         [
          "another",
          "bullshit",
          "wbd",
          "firedavidzaslav"
         ],
         {
          "indices": [],
          "length": 256,
          "values": [],
          "vectorType": "sparse"
         },
         {
          "indices": [],
          "length": 256,
          "values": [],
          "vectorType": "sparse"
         },
         {
          "length": 2,
          "values": [
           -1.4900190958821828,
           1.4900190958821828
          ],
          "vectorType": "dense"
         },
         {
          "length": 2,
          "values": [
           0.18391886124942677,
           0.8160811387505732
          ],
          "vectorType": "dense"
         },
         1
        ]
       ],
       "datasetInfos": [],
       "dbfsResultPath": null,
       "isJsonSchema": true,
       "metadata": {},
       "overflow": false,
       "plotOptions": {
        "customPlotOptions": {},
        "displayType": "table",
        "pivotAggregation": null,
        "pivotColumns": null,
        "xColumns": null,
        "yColumns": null
       },
       "removedWidgets": [],
       "schema": [
        {
         "metadata": "{}",
         "name": "label",
         "type": "\"long\""
        },
        {
         "metadata": "{}",
         "name": "tweet",
         "type": "\"string\""
        },
        {
         "metadata": "{}",
         "name": "tokens",
         "type": "{\"type\":\"array\",\"elementType\":\"string\",\"containsNull\":true}"
        },
        {
         "metadata": "{}",
         "name": "filtered",
         "type": "{\"type\":\"array\",\"elementType\":\"string\",\"containsNull\":true}"
        },
        {
         "metadata": "{}",
         "name": "cv",
         "type": "{\"type\":\"udt\",\"class\":\"org.apache.spark.ml.linalg.VectorUDT\",\"pyClass\":\"pyspark.ml.linalg.VectorUDT\",\"sqlType\":{\"type\":\"struct\",\"fields\":[{\"name\":\"type\",\"type\":\"byte\",\"nullable\":false,\"metadata\":{}},{\"name\":\"size\",\"type\":\"integer\",\"nullable\":true,\"metadata\":{}},{\"name\":\"indices\",\"type\":{\"type\":\"array\",\"elementType\":\"integer\",\"containsNull\":false},\"nullable\":true,\"metadata\":{}},{\"name\":\"values\",\"type\":{\"type\":\"array\",\"elementType\":\"double\",\"containsNull\":false},\"nullable\":true,\"metadata\":{}}]}}"
        },
        {
         "metadata": "{}",
         "name": "features",
         "type": "{\"type\":\"udt\",\"class\":\"org.apache.spark.ml.linalg.VectorUDT\",\"pyClass\":\"pyspark.ml.linalg.VectorUDT\",\"sqlType\":{\"type\":\"struct\",\"fields\":[{\"name\":\"type\",\"type\":\"byte\",\"nullable\":false,\"metadata\":{}},{\"name\":\"size\",\"type\":\"integer\",\"nullable\":true,\"metadata\":{}},{\"name\":\"indices\",\"type\":{\"type\":\"array\",\"elementType\":\"integer\",\"containsNull\":false},\"nullable\":true,\"metadata\":{}},{\"name\":\"values\",\"type\":{\"type\":\"array\",\"elementType\":\"double\",\"containsNull\":false},\"nullable\":true,\"metadata\":{}}]}}"
        },
        {
         "metadata": "{}",
         "name": "rawPrediction",
         "type": "{\"type\":\"udt\",\"class\":\"org.apache.spark.ml.linalg.VectorUDT\",\"pyClass\":\"pyspark.ml.linalg.VectorUDT\",\"sqlType\":{\"type\":\"struct\",\"fields\":[{\"name\":\"type\",\"type\":\"byte\",\"nullable\":false,\"metadata\":{}},{\"name\":\"size\",\"type\":\"integer\",\"nullable\":true,\"metadata\":{}},{\"name\":\"indices\",\"type\":{\"type\":\"array\",\"elementType\":\"integer\",\"containsNull\":false},\"nullable\":true,\"metadata\":{}},{\"name\":\"values\",\"type\":{\"type\":\"array\",\"elementType\":\"double\",\"containsNull\":false},\"nullable\":true,\"metadata\":{}}]}}"
        },
        {
         "metadata": "{}",
         "name": "probability",
         "type": "{\"type\":\"udt\",\"class\":\"org.apache.spark.ml.linalg.VectorUDT\",\"pyClass\":\"pyspark.ml.linalg.VectorUDT\",\"sqlType\":{\"type\":\"struct\",\"fields\":[{\"name\":\"type\",\"type\":\"byte\",\"nullable\":false,\"metadata\":{}},{\"name\":\"size\",\"type\":\"integer\",\"nullable\":true,\"metadata\":{}},{\"name\":\"indices\",\"type\":{\"type\":\"array\",\"elementType\":\"integer\",\"containsNull\":false},\"nullable\":true,\"metadata\":{}},{\"name\":\"values\",\"type\":{\"type\":\"array\",\"elementType\":\"double\",\"containsNull\":false},\"nullable\":true,\"metadata\":{}}]}}"
        },
        {
         "metadata": "{}",
         "name": "prediction",
         "type": "\"double\""
        }
       ],
       "type": "table"
      }
     },
     "output_type": "display_data"
    }
   ],
   "source": [
    "# split the data into traning and test sets\n",
    "train_data, test_data = tweets_idf.randomSplit([0.7, 0.3], seed=1234)\n",
    "\n",
    "lr = LogisticRegression(maxIter=10)\n",
    "\n",
    "lr_model = lr.fit(train_data)\n",
    "\n",
    "predictions = lr_model.transform(test_data)\n",
    "\n",
    "display(predictions.head(5))"
   ]
  },
  {
   "cell_type": "code",
   "execution_count": 0,
   "metadata": {
    "application/vnd.databricks.v1+cell": {
     "cellMetadata": {
      "byteLimit": 2048000,
      "rowLimit": 10000
     },
     "inputWidgets": {},
     "nuid": "d9b3db98-3166-488f-9551-c52a0d56970e",
     "showTitle": false,
     "title": ""
    }
   },
   "outputs": [
    {
     "data": {
      "text/html": [
       "<style scoped>\n",
       "  .table-result-container {\n",
       "    max-height: 300px;\n",
       "    overflow: auto;\n",
       "  }\n",
       "  table, th, td {\n",
       "    border: 1px solid black;\n",
       "    border-collapse: collapse;\n",
       "  }\n",
       "  th, td {\n",
       "    padding: 5px;\n",
       "  }\n",
       "  th {\n",
       "    text-align: left;\n",
       "  }\n",
       "</style><div class='table-result-container'><table class='table-result'><thead style='background-color: white'><tr><th>sentiment</th><th>tweet</th></tr></thead><tbody><tr><td>1</td><td>RT @ProgIntl: BREAKING: Tomorrow, Amazon workers at 18 warehouses are going on strike in France and Germany to #MakeAmazonPay, with many ot…</td></tr><tr><td>1</td><td>RT @ChiefElrond: $50 | 24 Hours   🥏 RT &amp; Follow:    @CryptoCoinCoach   +  @NeblioTeam  (BE ACTIVE ON PROFILE)  Tweet #NEBL  NEXT GEM ON BLA…</td></tr><tr><td>1</td><td>This is the only Black Friday ad you need to see https://t.co/7Hj3CR4YlS</td></tr><tr><td>1</td><td>RT @jihanicorn: $150 | 2.250.000 IDR • 24 Hours 💜  - RT &amp; Follow @CryptoCoinCoach + @NeblioTeam  ____________________________ (BE ACTIVE ON…</td></tr><tr><td>1</td><td>RT @HeiraCrypto: $100 ~ Ends in 24 hrs.   🔶 RT - Follow:    @CryptoCoinCoach  +  @NeblioTeam  (BE ACTIVE ON PROFILE)  Tweet #NEBL  NEXT GEM…</td></tr><tr><td>1</td><td>RT @May7ven: $50 — 24 Hours —   ➖RT &amp; Follow:    @CryptoCoinCoach   +   @NeblioTeam  (BE ACTIVE ON PROFILE)  Tweet #NEBL  NEXT GEM ON BLACK…</td></tr><tr><td>1</td><td>RT @Beast_Cryptox: 💰 $70 ~ 24 HOURS 🐄🦥  ➖ RT &amp; Follow  @CryptoCoinCoach @NeblioTeam ----------------- (BE ACTIVE ON PROFILE)  Tweet - #NEBL…</td></tr><tr><td>1</td><td>RT @GFuelEnergy: 💛 𝗟𝗜𝗞𝗘 + 𝗥𝗧 to win a #BanjoKazooie x #GFUEL \"HONEY BERRY\" Tub!!! Picking 2 winners tomorrow bc we just RESTOCKED these bab…</td></tr><tr><td>1</td><td>@ThisIsKyleR Working for doubletime and a half is MY tradition. Of course, the sweet paycheck gets gobbled up on Bl… https://t.co/kaDhOvmW5n</td></tr><tr><td>1</td><td>If y’all don’t get y’all grandma a tv for Black Friday</td></tr></tbody></table></div>"
      ]
     },
     "metadata": {
      "application/vnd.databricks.v1+output": {
       "addedWidgets": {},
       "aggData": [],
       "aggError": "",
       "aggOverflow": false,
       "aggSchema": [],
       "aggSeriesLimitReached": false,
       "aggType": "",
       "arguments": {},
       "columnCustomDisplayInfos": {},
       "data": [
        [
         1,
         "RT @ProgIntl: BREAKING: Tomorrow, Amazon workers at 18 warehouses are going on strike in France and Germany to #MakeAmazonPay, with many ot…"
        ],
        [
         1,
         "RT @ChiefElrond: $50 | 24 Hours   🥏 RT &amp; Follow:    @CryptoCoinCoach   +  @NeblioTeam  (BE ACTIVE ON PROFILE)  Tweet #NEBL  NEXT GEM ON BLA…"
        ],
        [
         1,
         "This is the only Black Friday ad you need to see https://t.co/7Hj3CR4YlS"
        ],
        [
         1,
         "RT @jihanicorn: $150 | 2.250.000 IDR • 24 Hours 💜  - RT &amp; Follow @CryptoCoinCoach + @NeblioTeam  ____________________________ (BE ACTIVE ON…"
        ],
        [
         1,
         "RT @HeiraCrypto: $100 ~ Ends in 24 hrs.   🔶 RT - Follow:    @CryptoCoinCoach  +  @NeblioTeam  (BE ACTIVE ON PROFILE)  Tweet #NEBL  NEXT GEM…"
        ],
        [
         1,
         "RT @May7ven: $50 — 24 Hours —   ➖RT &amp; Follow:    @CryptoCoinCoach   +   @NeblioTeam  (BE ACTIVE ON PROFILE)  Tweet #NEBL  NEXT GEM ON BLACK…"
        ],
        [
         1,
         "RT @Beast_Cryptox: 💰 $70 ~ 24 HOURS 🐄🦥  ➖ RT &amp; Follow  @CryptoCoinCoach @NeblioTeam ----------------- (BE ACTIVE ON PROFILE)  Tweet - #NEBL…"
        ],
        [
         1,
         "RT @GFuelEnergy: 💛 𝗟𝗜𝗞𝗘 + 𝗥𝗧 to win a #BanjoKazooie x #GFUEL \"HONEY BERRY\" Tub!!! Picking 2 winners tomorrow bc we just RESTOCKED these bab…"
        ],
        [
         1,
         "@ThisIsKyleR Working for doubletime and a half is MY tradition. Of course, the sweet paycheck gets gobbled up on Bl… https://t.co/kaDhOvmW5n"
        ],
        [
         1,
         "If y’all don’t get y’all grandma a tv for Black Friday"
        ]
       ],
       "datasetInfos": [],
       "dbfsResultPath": null,
       "isJsonSchema": true,
       "metadata": {},
       "overflow": false,
       "plotOptions": {
        "customPlotOptions": {},
        "displayType": "table",
        "pivotAggregation": null,
        "pivotColumns": null,
        "xColumns": null,
        "yColumns": null
       },
       "removedWidgets": [],
       "schema": [
        {
         "metadata": "{}",
         "name": "sentiment",
         "type": "\"long\""
        },
        {
         "metadata": "{}",
         "name": "tweet",
         "type": "\"string\""
        }
       ],
       "type": "table"
      }
     },
     "output_type": "display_data"
    }
   ],
   "source": [
    "display(tweets.head(10))"
   ]
  },
  {
   "cell_type": "markdown",
   "metadata": {
    "application/vnd.databricks.v1+cell": {
     "cellMetadata": {},
     "inputWidgets": {},
     "nuid": "df06afdf-042e-468b-817d-ea2959fa57e4",
     "showTitle": false,
     "title": ""
    }
   },
   "source": [
    "####Model Evaluation"
   ]
  },
  {
   "cell_type": "code",
   "execution_count": 0,
   "metadata": {
    "application/vnd.databricks.v1+cell": {
     "cellMetadata": {
      "byteLimit": 2048000,
      "rowLimit": 10000
     },
     "inputWidgets": {},
     "nuid": "ca232550-02f3-41b7-88aa-f2bcb729d0c4",
     "showTitle": false,
     "title": ""
    }
   },
   "outputs": [
    {
     "name": "stdout",
     "output_type": "stream",
     "text": [
      "Accuracy Score: 0.9250\n",
      "ROC-AUC: 0.9007\n"
     ]
    }
   ],
   "source": [
    "\n",
    "# Evaluate the model using binary classification evaluation \n",
    "evaluator = BinaryClassificationEvaluator(rawPredictionCol=\"rawPrediction\") \n",
    "roc_auc = evaluator.evaluate(predictions)\n",
    "accuracy = predictions.filter(predictions.label == predictions.prediction).count() / float(predictions.count())\n",
    "\n",
    "print(\"Accuracy Score: {0:.4f}\".format(accuracy))\n",
    "print(\"ROC-AUC: {0:.4f}\".format(roc_auc))"
   ]
  },
  {
   "cell_type": "markdown",
   "metadata": {
    "application/vnd.databricks.v1+cell": {
     "cellMetadata": {},
     "inputWidgets": {},
     "nuid": "d2ee555d-c440-43ee-aa23-1255ec979d1c",
     "showTitle": false,
     "title": ""
    }
   },
   "source": [
    "With our logistic regression model, we have an accuracy score of 0.9250, and a ROC-AUC score of 0.9007."
   ]
  },
  {
   "cell_type": "markdown",
   "metadata": {
    "application/vnd.databricks.v1+cell": {
     "cellMetadata": {},
     "inputWidgets": {},
     "nuid": "cb868f1e-bdd3-4ab1-9f4c-079f6e806e99",
     "showTitle": false,
     "title": ""
    }
   },
   "source": [
    "### Save the data and the predictions into my bucket"
   ]
  },
  {
   "cell_type": "code",
   "execution_count": 0,
   "metadata": {
    "application/vnd.databricks.v1+cell": {
     "cellMetadata": {
      "byteLimit": 2048000,
      "rowLimit": 10000
     },
     "inputWidgets": {},
     "nuid": "ad30424b-ccb3-4c41-a0b8-668701d8e6b0",
     "showTitle": false,
     "title": ""
    }
   },
   "outputs": [
    {
     "name": "stdout",
     "output_type": "stream",
     "text": [
      "Mounting b18-arunabho\n",
      "/mnt/my_bucket has been unmounted.\n",
      "The bucket b18-arunabho was mounted to my_bucket \n",
      "\n"
     ]
    }
   ],
   "source": [
    "mount_s3_bucket(ACCESS_KEY, SECRET_ACCESS_KEY, \"b18-arunabho\", \"my_bucket\")\n"
   ]
  },
  {
   "cell_type": "code",
   "execution_count": 0,
   "metadata": {
    "application/vnd.databricks.v1+cell": {
     "cellMetadata": {
      "byteLimit": 2048000,
      "rowLimit": 10000
     },
     "inputWidgets": {},
     "nuid": "77fccd80-6f19-4524-bae3-7734dca76d9a",
     "showTitle": false,
     "title": ""
    }
   },
   "outputs": [],
   "source": [
    "from pyspark.sql.types import ArrayType\n",
    "from pyspark.ml.linalg import VectorUDT\n",
    "\n",
    "# Function to identify columns that are Vectors or Arrays\n",
    "def get_non_vector_cols(df):\n",
    "    return [f.name for f in df.schema.fields if not isinstance(f.dataType, (ArrayType, VectorUDT))]\n",
    "\n",
    "clean_predictions_columns = get_non_vector_cols(predictions)\n",
    "\n",
    "\n",
    "# Save predictions\n",
    "predictions.select(clean_predictions_columns).write \\\n",
    "    .option('header', 'false') \\\n",
    "    .option('delimiter', '\\t') \\\n",
    "    .csv(\"dbfs:/mnt/my_bucket/main_tweets/\")"
   ]
  },
  {
   "cell_type": "code",
   "execution_count": 0,
   "metadata": {
    "application/vnd.databricks.v1+cell": {
     "cellMetadata": {},
     "inputWidgets": {},
     "nuid": "19c6744b-7af2-4671-94b0-397ade32661f",
     "showTitle": false,
     "title": ""
    }
   },
   "outputs": [],
   "source": [
    "df1.select(clean_tweets_columns).write .option('header', 'false') \\\n",
    "    .option('delimiter', '\\t') \\\n",
    "    .csv(\"dbfs:/mnt/my_bucket/main_tweets/\")"
   ]
  },
  {
   "cell_type": "code",
   "execution_count": 0,
   "metadata": {
    "application/vnd.databricks.v1+cell": {
     "cellMetadata": {
      "byteLimit": 2048000,
      "rowLimit": 10000
     },
     "inputWidgets": {},
     "nuid": "3a0f8919-0b8f-435d-bd4f-be9997985941",
     "showTitle": false,
     "title": ""
    }
   },
   "outputs": [],
   "source": [
    "predictions.write.parquet('/mnt/my_bucket/BFpredictions/blackfridaypredictions.parquet')"
   ]
  },
  {
   "cell_type": "code",
   "execution_count": 0,
   "metadata": {
    "application/vnd.databricks.v1+cell": {
     "cellMetadata": {
      "byteLimit": 2048000,
      "rowLimit": 10000
     },
     "inputWidgets": {},
     "nuid": "18d7ba59-93c0-4440-b4c5-d54ce09e4a1a",
     "showTitle": false,
     "title": ""
    }
   },
   "outputs": [
    {
     "name": "stdout",
     "output_type": "stream",
     "text": [
      "['label', 'tweet', 'prediction']\n"
     ]
    }
   ],
   "source": [
    "print(clean_predictions_columns)"
   ]
  }
 ],
 "metadata": {
  "application/vnd.databricks.v1+notebook": {
   "dashboards": [],
   "language": "python",
   "notebookMetadata": {
    "mostRecentlyExecutedCommandWithImplicitDF": {
     "commandId": 465642250157832,
     "dataframes": [
      "_sqldf"
     ]
    },
    "pythonIndentUnit": 4
   },
   "notebookName": "blackFriday",
   "widgets": {}
  },
  "kernelspec": {
   "display_name": "Python 3 (ipykernel)",
   "language": "python",
   "name": "python3"
  },
  "language_info": {
   "codemirror_mode": {
    "name": "ipython",
    "version": 3
   },
   "file_extension": ".py",
   "mimetype": "text/x-python",
   "name": "python",
   "nbconvert_exporter": "python",
   "pygments_lexer": "ipython3",
   "version": "3.11.7"
  }
 },
 "nbformat": 4,
 "nbformat_minor": 1
}
